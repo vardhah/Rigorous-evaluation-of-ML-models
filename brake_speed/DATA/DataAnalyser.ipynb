{
 "cells": [
  {
   "cell_type": "code",
   "execution_count": 1,
   "metadata": {},
   "outputs": [],
   "source": [
    "import pandas as pd \n",
    "import numpy as np\n",
    "from pandas_profiling import ProfileReport\n",
    "import matplotlib.pyplot as plt\n",
    "import tensorflow as tf\n",
    "\n",
    "csvfile = \"Data_actor.csv\"  #file name \n",
    "#csvfile = \"Data_actor2000.pt.csv\"  #file name "
   ]
  },
  {
   "cell_type": "code",
   "execution_count": 2,
   "metadata": {},
   "outputs": [
    {
     "data": {
      "text/html": [
       "<div>\n",
       "<style scoped>\n",
       "    .dataframe tbody tr th:only-of-type {\n",
       "        vertical-align: middle;\n",
       "    }\n",
       "\n",
       "    .dataframe tbody tr th {\n",
       "        vertical-align: top;\n",
       "    }\n",
       "\n",
       "    .dataframe thead th {\n",
       "        text-align: right;\n",
       "    }\n",
       "</style>\n",
       "<table border=\"1\" class=\"dataframe\">\n",
       "  <thead>\n",
       "    <tr style=\"text-align: right;\">\n",
       "      <th></th>\n",
       "      <th>Episode</th>\n",
       "      <th>Kick_Speed</th>\n",
       "      <th>NN_start_speed</th>\n",
       "      <th>CRS_speed</th>\n",
       "      <th>Rewards</th>\n",
       "      <th>Stop_Distance</th>\n",
       "    </tr>\n",
       "  </thead>\n",
       "  <tbody>\n",
       "    <tr>\n",
       "      <th>0</th>\n",
       "      <td>0</td>\n",
       "      <td>12.58</td>\n",
       "      <td>12.58</td>\n",
       "      <td>0.00</td>\n",
       "      <td>-235.32</td>\n",
       "      <td>66.81</td>\n",
       "    </tr>\n",
       "    <tr>\n",
       "      <th>1</th>\n",
       "      <td>1</td>\n",
       "      <td>32.44</td>\n",
       "      <td>32.44</td>\n",
       "      <td>23.42</td>\n",
       "      <td>-553.68</td>\n",
       "      <td>0.16</td>\n",
       "    </tr>\n",
       "    <tr>\n",
       "      <th>2</th>\n",
       "      <td>2</td>\n",
       "      <td>33.23</td>\n",
       "      <td>33.23</td>\n",
       "      <td>24.63</td>\n",
       "      <td>-606.88</td>\n",
       "      <td>0.02</td>\n",
       "    </tr>\n",
       "    <tr>\n",
       "      <th>3</th>\n",
       "      <td>3</td>\n",
       "      <td>8.77</td>\n",
       "      <td>8.77</td>\n",
       "      <td>24.63</td>\n",
       "      <td>-326.19</td>\n",
       "      <td>82.90</td>\n",
       "    </tr>\n",
       "    <tr>\n",
       "      <th>4</th>\n",
       "      <td>4</td>\n",
       "      <td>16.73</td>\n",
       "      <td>16.73</td>\n",
       "      <td>24.63</td>\n",
       "      <td>-91.50</td>\n",
       "      <td>43.90</td>\n",
       "    </tr>\n",
       "  </tbody>\n",
       "</table>\n",
       "</div>"
      ],
      "text/plain": [
       "   Episode  Kick_Speed  NN_start_speed  CRS_speed  Rewards  Stop_Distance\n",
       "0        0       12.58           12.58       0.00  -235.32          66.81\n",
       "1        1       32.44           32.44      23.42  -553.68           0.16\n",
       "2        2       33.23           33.23      24.63  -606.88           0.02\n",
       "3        3        8.77            8.77      24.63  -326.19          82.90\n",
       "4        4       16.73           16.73      24.63   -91.50          43.90"
      ]
     },
     "execution_count": 2,
     "metadata": {},
     "output_type": "execute_result"
    }
   ],
   "source": [
    "data_test= pd.read_csv(csvfile)\n",
    "data_test.head()"
   ]
  },
  {
   "cell_type": "code",
   "execution_count": 53,
   "metadata": {},
   "outputs": [
    {
     "data": {
      "application/vnd.jupyter.widget-view+json": {
       "model_id": "a8091ce9dfd34c7b9ecc8ee900e07ef7",
       "version_major": 2,
       "version_minor": 0
      },
      "text/plain": [
       "HBox(children=(FloatProgress(value=0.0, description='variables', max=8.0, style=ProgressStyle(description_widt…"
      ]
     },
     "metadata": {},
     "output_type": "display_data"
    },
    {
     "name": "stdout",
     "output_type": "stream",
     "text": [
      "\n"
     ]
    },
    {
     "data": {
      "application/vnd.jupyter.widget-view+json": {
       "model_id": "f585d6db1adb4ab9b11596cb4872c8fe",
       "version_major": 2,
       "version_minor": 0
      },
      "text/plain": [
       "HBox(children=(FloatProgress(value=0.0, description='table', max=1.0, style=ProgressStyle(description_width='i…"
      ]
     },
     "metadata": {},
     "output_type": "display_data"
    },
    {
     "name": "stdout",
     "output_type": "stream",
     "text": [
      "\n"
     ]
    },
    {
     "data": {
      "application/vnd.jupyter.widget-view+json": {
       "model_id": "be06c6ee8f4749a28655095f857526c7",
       "version_major": 2,
       "version_minor": 0
      },
      "text/plain": [
       "HBox(children=(FloatProgress(value=0.0, description='warnings', max=3.0, style=ProgressStyle(description_width…"
      ]
     },
     "metadata": {},
     "output_type": "display_data"
    },
    {
     "name": "stdout",
     "output_type": "stream",
     "text": [
      "\n"
     ]
    },
    {
     "data": {
      "application/vnd.jupyter.widget-view+json": {
       "model_id": "c567dfcf80a349f2a1e64251d4f89566",
       "version_major": 2,
       "version_minor": 0
      },
      "text/plain": [
       "HBox(children=(FloatProgress(value=0.0, description='package', max=1.0, style=ProgressStyle(description_width=…"
      ]
     },
     "metadata": {},
     "output_type": "display_data"
    },
    {
     "name": "stdout",
     "output_type": "stream",
     "text": [
      "\n"
     ]
    },
    {
     "data": {
      "application/vnd.jupyter.widget-view+json": {
       "model_id": "59da84b5aee640919b628cd3e140f66b",
       "version_major": 2,
       "version_minor": 0
      },
      "text/plain": [
       "HBox(children=(FloatProgress(value=0.0, description='build report structure', max=1.0, style=ProgressStyle(des…"
      ]
     },
     "metadata": {},
     "output_type": "display_data"
    },
    {
     "name": "stdout",
     "output_type": "stream",
     "text": [
      "\n"
     ]
    }
   ],
   "source": [
    "profile = ProfileReport(data_test, minimal=True)\n",
    "profile.to_file(output_file=\"output.html\")"
   ]
  },
  {
   "cell_type": "code",
   "execution_count": 3,
   "metadata": {},
   "outputs": [
    {
     "name": "stdout",
     "output_type": "stream",
     "text": [
      "Size of crashes : 1562\n",
      "Size of success : 7438\n",
      "Percentage of crash cases:17.36 %\n",
      "Percentage of not crashed cases:82.64 %\n"
     ]
    }
   ],
   "source": [
    "failed = data_test[data_test['Stop_Distance'] <= 0]\n",
    "passed = data_test[data_test['Stop_Distance'] > 0]\n",
    "\n",
    "print('Size of crashes :',failed.shape[0])  \n",
    "print('Size of success :',passed.shape[0]) \n",
    "print(\"Percentage of crash cases:{:.2f}\".format(failed.shape[0]*100/(failed.shape[0]+passed.shape[0])),\"%\")\n",
    "print(\"Percentage of not crashed cases:{:.2f}\".format(passed.shape[0]*100/(failed.shape[0]+passed.shape[0])),\"%\")\n",
    "\n",
    "#failed.to_csv(\"crashed.csv\",index=False)\n",
    "#failed.head()"
   ]
  },
  {
   "cell_type": "code",
   "execution_count": 4,
   "metadata": {},
   "outputs": [],
   "source": [
    "#passed.to_csv(\"not_crashed.csv\",index=False  )\n",
    "#passed.head()"
   ]
  },
  {
   "cell_type": "code",
   "execution_count": 4,
   "metadata": {},
   "outputs": [
    {
     "data": {
      "image/png": "[encoded data removed]",
      "text/plain": [
       "<Figure size 576x396 with 1 Axes>"
      ]
     },
     "metadata": {},
     "output_type": "display_data"
    }
   ],
   "source": [
    "plt.scatter(failed[\"NN_start_speed\"],failed[\"Stop_Distance\"],label='Line 2')\n",
    "plt.grid(color='r', linestyle='-', linewidth=0.5)\n",
    "plt.title(\"Failed cases\")\n",
    "plt.xlabel(\"Intial speed\")\n",
    "plt.ylabel(\"distnace\")\n",
    "plt.show()"
   ]
  },
  {
   "cell_type": "code",
   "execution_count": 5,
   "metadata": {},
   "outputs": [
    {
     "data": {
      "image/png": "[encoded data removed]",
      "text/plain": [
       "<Figure size 576x396 with 1 Axes>"
      ]
     },
     "metadata": {},
     "output_type": "display_data"
    }
   ],
   "source": [
    "plt.scatter(passed[\"NN_start_speed\"],passed[\"Stop_Distance\"])\n",
    "plt.grid(color='r', linestyle='-', linewidth=0.5)\n",
    "plt.title(\"Success cases\")\n",
    "plt.xlabel(\"Intial speed\")\n",
    "plt.ylabel(\"distnace\")\n",
    "plt.show()"
   ]
  },
  {
   "cell_type": "code",
   "execution_count": 13,
   "metadata": {},
   "outputs": [
    {
     "data": {
      "text/html": [
       "<div>\n",
       "<style scoped>\n",
       "    .dataframe tbody tr th:only-of-type {\n",
       "        vertical-align: middle;\n",
       "    }\n",
       "\n",
       "    .dataframe tbody tr th {\n",
       "        vertical-align: top;\n",
       "    }\n",
       "\n",
       "    .dataframe thead th {\n",
       "        text-align: right;\n",
       "    }\n",
       "</style>\n",
       "<table border=\"1\" class=\"dataframe\">\n",
       "  <thead>\n",
       "    <tr style=\"text-align: right;\">\n",
       "      <th></th>\n",
       "      <th>Episode</th>\n",
       "      <th>Kick_Speed</th>\n",
       "      <th>NN_start_speed</th>\n",
       "      <th>CRS_speed</th>\n",
       "      <th>Rewards</th>\n",
       "      <th>Stop_Distance</th>\n",
       "      <th>test</th>\n",
       "    </tr>\n",
       "  </thead>\n",
       "  <tbody>\n",
       "    <tr>\n",
       "      <th>0</th>\n",
       "      <td>0</td>\n",
       "      <td>12.58</td>\n",
       "      <td>12.58</td>\n",
       "      <td>0.00</td>\n",
       "      <td>-235.32</td>\n",
       "      <td>66.81</td>\n",
       "      <td>0.0</td>\n",
       "    </tr>\n",
       "    <tr>\n",
       "      <th>1</th>\n",
       "      <td>1</td>\n",
       "      <td>32.44</td>\n",
       "      <td>32.44</td>\n",
       "      <td>23.42</td>\n",
       "      <td>-553.68</td>\n",
       "      <td>0.16</td>\n",
       "      <td>0.0</td>\n",
       "    </tr>\n",
       "    <tr>\n",
       "      <th>2</th>\n",
       "      <td>2</td>\n",
       "      <td>33.23</td>\n",
       "      <td>33.23</td>\n",
       "      <td>24.63</td>\n",
       "      <td>-606.88</td>\n",
       "      <td>0.02</td>\n",
       "      <td>0.0</td>\n",
       "    </tr>\n",
       "    <tr>\n",
       "      <th>3</th>\n",
       "      <td>3</td>\n",
       "      <td>8.77</td>\n",
       "      <td>8.77</td>\n",
       "      <td>24.63</td>\n",
       "      <td>-326.19</td>\n",
       "      <td>82.90</td>\n",
       "      <td>0.0</td>\n",
       "    </tr>\n",
       "    <tr>\n",
       "      <th>4</th>\n",
       "      <td>4</td>\n",
       "      <td>16.73</td>\n",
       "      <td>16.73</td>\n",
       "      <td>24.63</td>\n",
       "      <td>-91.50</td>\n",
       "      <td>43.90</td>\n",
       "      <td>0.0</td>\n",
       "    </tr>\n",
       "  </tbody>\n",
       "</table>\n",
       "</div>"
      ],
      "text/plain": [
       "   Episode  Kick_Speed  NN_start_speed  CRS_speed  Rewards  Stop_Distance  \\\n",
       "0        0       12.58           12.58       0.00  -235.32          66.81   \n",
       "1        1       32.44           32.44      23.42  -553.68           0.16   \n",
       "2        2       33.23           33.23      24.63  -606.88           0.02   \n",
       "3        3        8.77            8.77      24.63  -326.19          82.90   \n",
       "4        4       16.73           16.73      24.63   -91.50          43.90   \n",
       "\n",
       "   test  \n",
       "0   0.0  \n",
       "1   0.0  \n",
       "2   0.0  \n",
       "3   0.0  \n",
       "4   0.0  "
      ]
     },
     "execution_count": 13,
     "metadata": {},
     "output_type": "execute_result"
    }
   ],
   "source": [
    "data_test.loc[data_test['Stop_Distance'] <= 0, 'test'] = int(1)\n",
    "data_test.loc[data_test['Stop_Distance'] > 0, 'test'] = int(0)\n",
    "data_test.head()"
   ]
  },
  {
   "cell_type": "code",
   "execution_count": 36,
   "metadata": {},
   "outputs": [
    {
     "name": "stdout",
     "output_type": "stream",
     "text": [
      "Total number of episodes: 9000\n",
      "Number of Pass: 7437\n",
      "Number of fail: 1562\n"
     ]
    },
    {
     "data": {
      "image/png": "[encoded data removed]",
      "text/plain": [
       "<Figure size 576x396 with 1 Axes>"
      ]
     },
     "metadata": {},
     "output_type": "display_data"
    }
   ],
   "source": [
    "print('Total number of episodes:',data_test['Episode'].shape[0])\n",
    "start=1\n",
    "end=9000\n",
    "\n",
    "fig, ax = plt.subplots()\n",
    "episode=np.array(data_test['Episode'].values.tolist()[start:end])\n",
    "test=np.array(data_test['test'].values.tolist()[start:end])\n",
    "speed=np.array(data_test['NN_start_speed'].values.tolist()[start:end])\n",
    "\n",
    "indices = test == 0\n",
    "print('Number of Pass:',indices.sum())\n",
    "print('Number of fail:',indices.shape[0]-indices.sum())\n",
    "\n",
    "# normal values\n",
    "ax.scatter(episode[~indices], speed[~indices], c = 'red',label='fail')\n",
    "# bad values\n",
    "#ax.scatter(episode[indices], speed[indices], c = 'grey',label='Pass')\n",
    "#ax.legend()\n",
    "ax.set_ylim([0, 45])\n",
    "plt.xlabel('episode')\n",
    "plt.ylabel('speed (m/s)')\n",
    "ax.grid(True) \n",
    "plt.show()"
   ]
  },
  {
   "cell_type": "code",
   "execution_count": null,
   "metadata": {},
   "outputs": [],
   "source": []
  },
  {
   "cell_type": "code",
   "execution_count": null,
   "metadata": {},
   "outputs": [],
   "source": []
  },
  {
   "cell_type": "code",
   "execution_count": 8,
   "metadata": {},
   "outputs": [
    {
     "name": "stdout",
     "output_type": "stream",
     "text": [
      "Failures:  [191, 169, 160, 151, 138, 134, 125, 104, 101, 79, 70, 54, 46, 21, 16, 3, 0, 0]\n"
     ]
    },
    {
     "data": {
      "image/png": "[encoded data removed]",
      "text/plain": [
       "<Figure size 576x396 with 1 Axes>"
      ]
     },
     "metadata": {},
     "output_type": "display_data"
    }
   ],
   "source": [
    "step=500\n",
    "failure=[]\n",
    "fig, ax = plt.subplots()\n",
    "for i in range(int(data_test['Episode'].shape[0]/step)):\n",
    "    start=step*i\n",
    "    episode=np.array(data_test['Episode'].values.tolist()[start:start+step])\n",
    "    test=np.array(data_test['test'].values.tolist()[start:start+step])\n",
    "    indices = test == 1\n",
    "    failure.append(indices.shape[0]-indices.sum())\n",
    "print('Failures: ',failure)\n",
    "ax.plot(failure,marker='o', linestyle='dashed',linewidth=2, markersize=12)\n",
    "plt.xlabel('(index+1)*1000 episodes')\n",
    "plt.ylabel('Failures/1000 episodes')\n",
    "ax.grid(True) \n",
    "plt.show()   "
   ]
  },
  {
   "cell_type": "code",
   "execution_count": 26,
   "metadata": {},
   "outputs": [
    {
     "name": "stdout",
     "output_type": "stream",
     "text": [
      "std is: [866.02535567  11.48810554]\n",
      "Mean is: [7499.5          24.79501667]\n"
     ]
    },
    {
     "data": {
      "text/html": [
       "<div>\n",
       "<style scoped>\n",
       "    .dataframe tbody tr th:only-of-type {\n",
       "        vertical-align: middle;\n",
       "    }\n",
       "\n",
       "    .dataframe tbody tr th {\n",
       "        vertical-align: top;\n",
       "    }\n",
       "\n",
       "    .dataframe thead th {\n",
       "        text-align: right;\n",
       "    }\n",
       "</style>\n",
       "<table border=\"1\" class=\"dataframe\">\n",
       "  <thead>\n",
       "    <tr style=\"text-align: right;\">\n",
       "      <th></th>\n",
       "      <th>Episode</th>\n",
       "      <th>Kick_Speed</th>\n",
       "      <th>test</th>\n",
       "    </tr>\n",
       "  </thead>\n",
       "  <tbody>\n",
       "    <tr>\n",
       "      <th>6000</th>\n",
       "      <td>-1.731474</td>\n",
       "      <td>1.281759</td>\n",
       "      <td>0.0</td>\n",
       "    </tr>\n",
       "    <tr>\n",
       "      <th>6001</th>\n",
       "      <td>-1.730319</td>\n",
       "      <td>-1.188622</td>\n",
       "      <td>0.0</td>\n",
       "    </tr>\n",
       "    <tr>\n",
       "      <th>6002</th>\n",
       "      <td>-1.729164</td>\n",
       "      <td>0.881345</td>\n",
       "      <td>0.0</td>\n",
       "    </tr>\n",
       "    <tr>\n",
       "      <th>6003</th>\n",
       "      <td>-1.728009</td>\n",
       "      <td>1.715251</td>\n",
       "      <td>1.0</td>\n",
       "    </tr>\n",
       "    <tr>\n",
       "      <th>6004</th>\n",
       "      <td>-1.726855</td>\n",
       "      <td>-1.096353</td>\n",
       "      <td>0.0</td>\n",
       "    </tr>\n",
       "  </tbody>\n",
       "</table>\n",
       "</div>"
      ],
      "text/plain": [
       "       Episode  Kick_Speed  test\n",
       "6000 -1.731474    1.281759   0.0\n",
       "6001 -1.730319   -1.188622   0.0\n",
       "6002 -1.729164    0.881345   0.0\n",
       "6003 -1.728009    1.715251   1.0\n",
       "6004 -1.726855   -1.096353   0.0"
      ]
     },
     "execution_count": 26,
     "metadata": {},
     "output_type": "execute_result"
    }
   ],
   "source": [
    "#data for AVF training:\n",
    "iteration_start=6000\n",
    "iteration_end=9000\n",
    "data=data_test[[\"Episode\", \"Kick_Speed\",\"test\"]][iteration_start:iteration_end]\n",
    "std=np.std(data[[\"Episode\", \"Kick_Speed\"]].values,axis=0)\n",
    "mean=np.mean(data[[\"Episode\", \"Kick_Speed\"]].values,axis=0)\n",
    "np.savez('stdmean.npz',std=std, mean=mean)\n",
    "data[[\"Episode\", \"Kick_Speed\"]]=np.divide(np.subtract(data[[\"Episode\", \"Kick_Speed\"]],mean),std)\n",
    "print('std is:',std)\n",
    "print('Mean is:',mean)\n",
    "data.head()"
   ]
  },
  {
   "cell_type": "code",
   "execution_count": 27,
   "metadata": {},
   "outputs": [
    {
     "name": "stdout",
     "output_type": "stream",
     "text": [
      "(3000, 2)\n",
      "(3000,)\n",
      "(2,)\n",
      "Epoch 1/500\n",
      "252/252 [==============================] - 0s 2ms/step - loss: 0.2212 - accuracy: 0.9438\n",
      "Epoch 2/500\n",
      "252/252 [==============================] - 1s 2ms/step - loss: 0.0761 - accuracy: 0.9726\n",
      "Epoch 3/500\n",
      "252/252 [==============================] - 1s 2ms/step - loss: 0.0590 - accuracy: 0.9746\n",
      "Epoch 4/500\n",
      "252/252 [==============================] - 1s 2ms/step - loss: 0.0456 - accuracy: 0.9851\n",
      "Epoch 5/500\n",
      "252/252 [==============================] - 1s 2ms/step - loss: 0.0394 - accuracy: 0.9886\n",
      "Epoch 6/500\n",
      "252/252 [==============================] - 1s 2ms/step - loss: 0.0345 - accuracy: 0.9891\n",
      "Epoch 7/500\n",
      "252/252 [==============================] - 1s 2ms/step - loss: 0.0323 - accuracy: 0.9876\n",
      "Epoch 8/500\n",
      "252/252 [==============================] - 0s 2ms/step - loss: 0.0284 - accuracy: 0.9900\n",
      "Epoch 9/500\n",
      "252/252 [==============================] - 0s 2ms/step - loss: 0.0265 - accuracy: 0.9896\n",
      "Epoch 10/500\n",
      "252/252 [==============================] - 0s 2ms/step - loss: 0.0264 - accuracy: 0.9886\n",
      "Epoch 11/500\n",
      "252/252 [==============================] - 0s 2ms/step - loss: 0.0224 - accuracy: 0.9935\n",
      "Epoch 12/500\n",
      "252/252 [==============================] - 0s 2ms/step - loss: 0.0231 - accuracy: 0.9900\n",
      "Epoch 13/500\n",
      "252/252 [==============================] - 1s 2ms/step - loss: 0.0220 - accuracy: 0.9900\n",
      "Epoch 14/500\n",
      "252/252 [==============================] - 1s 2ms/step - loss: 0.0200 - accuracy: 0.9920\n",
      "Epoch 15/500\n",
      "252/252 [==============================] - 1s 2ms/step - loss: 0.0209 - accuracy: 0.9920\n",
      "Epoch 16/500\n",
      "252/252 [==============================] - 1s 2ms/step - loss: 0.0189 - accuracy: 0.9920\n",
      "Epoch 17/500\n",
      "252/252 [==============================] - 1s 2ms/step - loss: 0.0203 - accuracy: 0.9920\n",
      "Epoch 18/500\n",
      "252/252 [==============================] - 0s 2ms/step - loss: 0.0177 - accuracy: 0.9925\n",
      "Epoch 19/500\n",
      "252/252 [==============================] - 0s 2ms/step - loss: 0.0186 - accuracy: 0.9935\n",
      "Epoch 20/500\n",
      "252/252 [==============================] - 0s 2ms/step - loss: 0.0174 - accuracy: 0.9920\n",
      "Epoch 21/500\n",
      "252/252 [==============================] - 0s 2ms/step - loss: 0.0210 - accuracy: 0.9910\n",
      "Epoch 22/500\n",
      "252/252 [==============================] - 1s 2ms/step - loss: 0.0161 - accuracy: 0.9920\n",
      "Epoch 23/500\n",
      "252/252 [==============================] - 1s 2ms/step - loss: 0.0141 - accuracy: 0.9950\n",
      "Epoch 24/500\n",
      "252/252 [==============================] - 1s 2ms/step - loss: 0.0196 - accuracy: 0.9915\n",
      "Epoch 25/500\n",
      "252/252 [==============================] - 1s 2ms/step - loss: 0.0136 - accuracy: 0.9945\n",
      "Epoch 26/500\n",
      "252/252 [==============================] - 1s 2ms/step - loss: 0.0176 - accuracy: 0.9910\n",
      "Epoch 27/500\n",
      "252/252 [==============================] - 1s 2ms/step - loss: 0.0145 - accuracy: 0.9940\n",
      "Epoch 28/500\n",
      "252/252 [==============================] - 1s 2ms/step - loss: 0.0150 - accuracy: 0.9920\n",
      "Epoch 29/500\n",
      "252/252 [==============================] - 1s 2ms/step - loss: 0.0134 - accuracy: 0.9955\n",
      "Epoch 30/500\n",
      "252/252 [==============================] - 1s 2ms/step - loss: 0.0142 - accuracy: 0.9940\n",
      "Epoch 31/500\n",
      "252/252 [==============================] - 1s 2ms/step - loss: 0.0134 - accuracy: 0.9940\n",
      "Epoch 32/500\n",
      "252/252 [==============================] - 1s 2ms/step - loss: 0.0137 - accuracy: 0.9935\n",
      "Epoch 33/500\n",
      "252/252 [==============================] - 1s 2ms/step - loss: 0.0141 - accuracy: 0.9935\n",
      "Epoch 34/500\n",
      "252/252 [==============================] - 1s 2ms/step - loss: 0.0128 - accuracy: 0.9965\n",
      "Epoch 35/500\n",
      "252/252 [==============================] - 1s 2ms/step - loss: 0.0169 - accuracy: 0.9915\n",
      "Epoch 36/500\n",
      "252/252 [==============================] - 1s 2ms/step - loss: 0.0111 - accuracy: 0.9955\n",
      "Epoch 37/500\n",
      "252/252 [==============================] - 1s 2ms/step - loss: 0.0125 - accuracy: 0.9950\n",
      "Epoch 38/500\n",
      "252/252 [==============================] - 1s 2ms/step - loss: 0.0175 - accuracy: 0.9915\n",
      "Epoch 39/500\n",
      "252/252 [==============================] - 1s 2ms/step - loss: 0.0113 - accuracy: 0.9970\n",
      "Epoch 40/500\n",
      "252/252 [==============================] - 1s 2ms/step - loss: 0.0177 - accuracy: 0.9920\n",
      "Epoch 41/500\n",
      "252/252 [==============================] - 1s 2ms/step - loss: 0.0132 - accuracy: 0.9940\n",
      "Epoch 42/500\n",
      "252/252 [==============================] - 1s 2ms/step - loss: 0.0158 - accuracy: 0.9930\n",
      "Epoch 43/500\n",
      "252/252 [==============================] - 1s 2ms/step - loss: 0.0154 - accuracy: 0.9925\n",
      "Epoch 44/500\n",
      "252/252 [==============================] - 1s 2ms/step - loss: 0.0170 - accuracy: 0.9925\n",
      "Epoch 45/500\n",
      "252/252 [==============================] - 1s 2ms/step - loss: 0.0133 - accuracy: 0.9950\n",
      "Epoch 46/500\n",
      "252/252 [==============================] - 1s 2ms/step - loss: 0.0116 - accuracy: 0.9945\n",
      "Epoch 47/500\n",
      "252/252 [==============================] - 1s 2ms/step - loss: 0.0148 - accuracy: 0.9940\n",
      "Epoch 48/500\n",
      "252/252 [==============================] - 1s 2ms/step - loss: 0.0116 - accuracy: 0.9960\n",
      "Epoch 49/500\n",
      "252/252 [==============================] - 1s 2ms/step - loss: 0.0136 - accuracy: 0.9935\n",
      "Epoch 50/500\n",
      "252/252 [==============================] - 1s 2ms/step - loss: 0.0116 - accuracy: 0.9950\n",
      "Epoch 51/500\n",
      "252/252 [==============================] - 1s 2ms/step - loss: 0.0116 - accuracy: 0.9940\n",
      "Epoch 52/500\n",
      "252/252 [==============================] - 1s 2ms/step - loss: 0.0126 - accuracy: 0.9925\n",
      "Epoch 53/500\n",
      "252/252 [==============================] - 1s 2ms/step - loss: 0.0137 - accuracy: 0.9945\n",
      "Epoch 54/500\n",
      "252/252 [==============================] - 1s 2ms/step - loss: 0.0146 - accuracy: 0.9940\n",
      "Epoch 55/500\n",
      "252/252 [==============================] - 1s 2ms/step - loss: 0.0115 - accuracy: 0.9955\n",
      "Epoch 56/500\n",
      "252/252 [==============================] - 1s 2ms/step - loss: 0.0123 - accuracy: 0.9930\n",
      "Epoch 57/500\n",
      "252/252 [==============================] - 1s 2ms/step - loss: 0.0114 - accuracy: 0.9940\n",
      "Epoch 58/500\n",
      "252/252 [==============================] - 1s 2ms/step - loss: 0.0107 - accuracy: 0.9945\n",
      "Epoch 59/500\n",
      "252/252 [==============================] - 1s 2ms/step - loss: 0.0112 - accuracy: 0.9955\n",
      "Epoch 60/500\n",
      "252/252 [==============================] - 1s 2ms/step - loss: 0.0099 - accuracy: 0.9955\n",
      "Epoch 61/500\n",
      "252/252 [==============================] - 1s 2ms/step - loss: 0.0125 - accuracy: 0.9950\n",
      "Epoch 62/500\n",
      "252/252 [==============================] - 1s 2ms/step - loss: 0.0120 - accuracy: 0.9940\n",
      "Epoch 63/500\n",
      "252/252 [==============================] - 1s 2ms/step - loss: 0.0122 - accuracy: 0.9945\n",
      "Epoch 64/500\n",
      "252/252 [==============================] - 1s 2ms/step - loss: 0.0128 - accuracy: 0.9950\n",
      "Epoch 65/500\n",
      "252/252 [==============================] - 1s 2ms/step - loss: 0.0120 - accuracy: 0.9960\n",
      "Epoch 66/500\n",
      "252/252 [==============================] - 1s 2ms/step - loss: 0.0117 - accuracy: 0.9940\n",
      "Epoch 67/500\n",
      "252/252 [==============================] - 1s 2ms/step - loss: 0.0158 - accuracy: 0.9925\n",
      "Epoch 68/500\n",
      "252/252 [==============================] - 1s 2ms/step - loss: 0.0134 - accuracy: 0.9925\n",
      "Epoch 69/500\n",
      "252/252 [==============================] - 1s 2ms/step - loss: 0.0114 - accuracy: 0.9950\n",
      "Epoch 70/500\n",
      "252/252 [==============================] - 1s 2ms/step - loss: 0.0106 - accuracy: 0.9950\n",
      "Epoch 71/500\n",
      "252/252 [==============================] - 1s 2ms/step - loss: 0.0115 - accuracy: 0.9965\n",
      "Epoch 72/500\n",
      "252/252 [==============================] - 1s 2ms/step - loss: 0.0145 - accuracy: 0.9930\n",
      "Epoch 73/500\n",
      "252/252 [==============================] - 0s 2ms/step - loss: 0.0093 - accuracy: 0.9960\n",
      "Epoch 74/500\n",
      "252/252 [==============================] - 0s 2ms/step - loss: 0.0162 - accuracy: 0.9935\n",
      "Epoch 75/500\n",
      "252/252 [==============================] - 1s 2ms/step - loss: 0.0126 - accuracy: 0.9940\n",
      "Epoch 76/500\n",
      "252/252 [==============================] - 1s 2ms/step - loss: 0.0105 - accuracy: 0.9955\n",
      "Epoch 77/500\n",
      "252/252 [==============================] - 1s 2ms/step - loss: 0.0143 - accuracy: 0.9945\n",
      "Epoch 78/500\n",
      "252/252 [==============================] - 1s 2ms/step - loss: 0.0107 - accuracy: 0.9950\n",
      "Epoch 79/500\n",
      "252/252 [==============================] - 1s 2ms/step - loss: 0.0119 - accuracy: 0.9965\n",
      "Epoch 80/500\n",
      "252/252 [==============================] - 1s 2ms/step - loss: 0.0137 - accuracy: 0.9940\n",
      "Epoch 81/500\n"
     ]
    },
    {
     "name": "stdout",
     "output_type": "stream",
     "text": [
      "252/252 [==============================] - 1s 2ms/step - loss: 0.0103 - accuracy: 0.9950\n",
      "Epoch 82/500\n",
      "252/252 [==============================] - 1s 2ms/step - loss: 0.0129 - accuracy: 0.9940\n",
      "Epoch 83/500\n",
      "252/252 [==============================] - 1s 2ms/step - loss: 0.0113 - accuracy: 0.9960\n",
      "Epoch 84/500\n",
      "252/252 [==============================] - 1s 2ms/step - loss: 0.0098 - accuracy: 0.9955\n",
      "Epoch 85/500\n",
      "252/252 [==============================] - 1s 2ms/step - loss: 0.0114 - accuracy: 0.9970\n",
      "Epoch 86/500\n",
      "252/252 [==============================] - 1s 2ms/step - loss: 0.0098 - accuracy: 0.9965\n",
      "Epoch 87/500\n",
      "252/252 [==============================] - 1s 2ms/step - loss: 0.0115 - accuracy: 0.9955\n",
      "Epoch 88/500\n",
      "252/252 [==============================] - 1s 2ms/step - loss: 0.0101 - accuracy: 0.9965\n",
      "Epoch 89/500\n",
      "252/252 [==============================] - 1s 2ms/step - loss: 0.0158 - accuracy: 0.9930\n",
      "Epoch 90/500\n",
      "252/252 [==============================] - 1s 2ms/step - loss: 0.0100 - accuracy: 0.9965\n",
      "Epoch 91/500\n",
      "252/252 [==============================] - 1s 2ms/step - loss: 0.0105 - accuracy: 0.9960\n",
      "Epoch 92/500\n",
      "252/252 [==============================] - 1s 2ms/step - loss: 0.0107 - accuracy: 0.9955\n",
      "Epoch 93/500\n",
      "252/252 [==============================] - 1s 2ms/step - loss: 0.0103 - accuracy: 0.9965\n",
      "Epoch 94/500\n",
      "252/252 [==============================] - 1s 2ms/step - loss: 0.0125 - accuracy: 0.9955\n",
      "Epoch 95/500\n",
      "252/252 [==============================] - 1s 2ms/step - loss: 0.0128 - accuracy: 0.9940\n",
      "Epoch 96/500\n",
      "252/252 [==============================] - 1s 2ms/step - loss: 0.0115 - accuracy: 0.9945\n",
      "Epoch 97/500\n",
      "252/252 [==============================] - 1s 2ms/step - loss: 0.0132 - accuracy: 0.9955\n",
      "Epoch 98/500\n",
      "252/252 [==============================] - 1s 2ms/step - loss: 0.0122 - accuracy: 0.9945\n",
      "Epoch 99/500\n",
      "252/252 [==============================] - 1s 2ms/step - loss: 0.0114 - accuracy: 0.9955\n",
      "Epoch 100/500\n",
      "252/252 [==============================] - 1s 2ms/step - loss: 0.0124 - accuracy: 0.9955\n",
      "Epoch 101/500\n",
      "252/252 [==============================] - 1s 2ms/step - loss: 0.0075 - accuracy: 0.9970\n",
      "Epoch 102/500\n",
      "252/252 [==============================] - 1s 2ms/step - loss: 0.0105 - accuracy: 0.9955\n",
      "Epoch 103/500\n",
      "252/252 [==============================] - 1s 2ms/step - loss: 0.0126 - accuracy: 0.9950\n",
      "Epoch 104/500\n",
      "252/252 [==============================] - 1s 2ms/step - loss: 0.0095 - accuracy: 0.9965\n",
      "Epoch 105/500\n",
      "252/252 [==============================] - 0s 2ms/step - loss: 0.0106 - accuracy: 0.9950\n",
      "Epoch 106/500\n",
      "252/252 [==============================] - 1s 2ms/step - loss: 0.0104 - accuracy: 0.9960\n",
      "Epoch 107/500\n",
      "252/252 [==============================] - 1s 2ms/step - loss: 0.0106 - accuracy: 0.9955\n",
      "Epoch 108/500\n",
      "252/252 [==============================] - 1s 2ms/step - loss: 0.0084 - accuracy: 0.9960\n",
      "Epoch 109/500\n",
      "252/252 [==============================] - 1s 2ms/step - loss: 0.0133 - accuracy: 0.9945\n",
      "Epoch 110/500\n",
      "252/252 [==============================] - 1s 2ms/step - loss: 0.0120 - accuracy: 0.9955\n",
      "Epoch 111/500\n",
      "252/252 [==============================] - 1s 2ms/step - loss: 0.0112 - accuracy: 0.9955\n",
      "Epoch 112/500\n",
      "252/252 [==============================] - 1s 2ms/step - loss: 0.0131 - accuracy: 0.9945\n",
      "Epoch 113/500\n",
      "252/252 [==============================] - 1s 2ms/step - loss: 0.0094 - accuracy: 0.9965\n",
      "Epoch 114/500\n",
      "252/252 [==============================] - 1s 2ms/step - loss: 0.0126 - accuracy: 0.9950\n",
      "Epoch 115/500\n",
      "252/252 [==============================] - 1s 2ms/step - loss: 0.0116 - accuracy: 0.9950\n",
      "Epoch 116/500\n",
      "252/252 [==============================] - 1s 2ms/step - loss: 0.0092 - accuracy: 0.9970\n",
      "Epoch 117/500\n",
      "252/252 [==============================] - 0s 2ms/step - loss: 0.0099 - accuracy: 0.9965\n",
      "Epoch 118/500\n",
      "252/252 [==============================] - 1s 2ms/step - loss: 0.0085 - accuracy: 0.9970\n",
      "Epoch 119/500\n",
      "252/252 [==============================] - 1s 2ms/step - loss: 0.0104 - accuracy: 0.9955\n",
      "Epoch 120/500\n",
      "252/252 [==============================] - 1s 2ms/step - loss: 0.0088 - accuracy: 0.9965\n",
      "Epoch 121/500\n",
      "252/252 [==============================] - 1s 2ms/step - loss: 0.0125 - accuracy: 0.9955\n",
      "Epoch 122/500\n",
      "252/252 [==============================] - 1s 2ms/step - loss: 0.0090 - accuracy: 0.9960\n",
      "Epoch 123/500\n",
      "252/252 [==============================] - 1s 2ms/step - loss: 0.0102 - accuracy: 0.9960\n",
      "Epoch 124/500\n",
      "252/252 [==============================] - 1s 2ms/step - loss: 0.0117 - accuracy: 0.9955\n",
      "Epoch 125/500\n",
      "252/252 [==============================] - 1s 2ms/step - loss: 0.0110 - accuracy: 0.9950\n",
      "Epoch 126/500\n",
      "252/252 [==============================] - 1s 2ms/step - loss: 0.0086 - accuracy: 0.9965\n",
      "Epoch 127/500\n",
      "252/252 [==============================] - 0s 2ms/step - loss: 0.0131 - accuracy: 0.9930\n",
      "Epoch 128/500\n",
      "252/252 [==============================] - 1s 2ms/step - loss: 0.0107 - accuracy: 0.9960\n",
      "Epoch 129/500\n",
      "252/252 [==============================] - 1s 2ms/step - loss: 0.0113 - accuracy: 0.9960\n",
      "Epoch 130/500\n",
      "252/252 [==============================] - 1s 2ms/step - loss: 0.0109 - accuracy: 0.9970\n",
      "Epoch 131/500\n",
      "252/252 [==============================] - 1s 2ms/step - loss: 0.0110 - accuracy: 0.9950\n",
      "Epoch 132/500\n",
      "252/252 [==============================] - 1s 2ms/step - loss: 0.0104 - accuracy: 0.9955\n",
      "Epoch 133/500\n",
      "252/252 [==============================] - 1s 2ms/step - loss: 0.0116 - accuracy: 0.9960\n",
      "Epoch 134/500\n",
      "252/252 [==============================] - 1s 2ms/step - loss: 0.0092 - accuracy: 0.9960\n",
      "Epoch 135/500\n",
      "252/252 [==============================] - 1s 2ms/step - loss: 0.0101 - accuracy: 0.9960\n",
      "Epoch 136/500\n",
      "252/252 [==============================] - 1s 2ms/step - loss: 0.0114 - accuracy: 0.9940\n",
      "Epoch 137/500\n",
      "252/252 [==============================] - 1s 2ms/step - loss: 0.0111 - accuracy: 0.9950\n",
      "Epoch 138/500\n",
      "252/252 [==============================] - 0s 2ms/step - loss: 0.0085 - accuracy: 0.9975\n",
      "Epoch 139/500\n",
      "252/252 [==============================] - 1s 2ms/step - loss: 0.0087 - accuracy: 0.9965\n",
      "Epoch 140/500\n",
      "252/252 [==============================] - 1s 2ms/step - loss: 0.0113 - accuracy: 0.9950\n",
      "Epoch 141/500\n",
      "252/252 [==============================] - 0s 2ms/step - loss: 0.0092 - accuracy: 0.9960\n",
      "Epoch 142/500\n",
      "252/252 [==============================] - 1s 2ms/step - loss: 0.0102 - accuracy: 0.9955\n",
      "Epoch 143/500\n",
      "252/252 [==============================] - 1s 2ms/step - loss: 0.0100 - accuracy: 0.9950\n",
      "Epoch 144/500\n",
      "252/252 [==============================] - 1s 2ms/step - loss: 0.0108 - accuracy: 0.9940\n",
      "Epoch 145/500\n",
      "252/252 [==============================] - 1s 2ms/step - loss: 0.0095 - accuracy: 0.9955\n",
      "Epoch 146/500\n",
      "245/252 [============================>.] - ETA: 0s - loss: 0.0087 - accuracy: 0.9985\n",
      "Reached 99% accuracy so cancelling training!\n",
      "252/252 [==============================] - 0s 2ms/step - loss: 0.0102 - accuracy: 0.9980\n"
     ]
    }
   ],
   "source": [
    "#AVF Training \n",
    "\n",
    "\n",
    "X=data[[\"Episode\",\"Kick_Speed\"]].values\n",
    "print(X.shape)\n",
    "Y=data[\"test\"]\n",
    "print(Y.shape)\n",
    "import tensorflow as tf\n",
    "from tensorflow import keras\n",
    "from sklearn.model_selection import train_test_split\n",
    "\n",
    "#test train split\n",
    "x_train, x_test, y_train, y_test = train_test_split(X, Y, test_size=0.33, random_state=42)\n",
    "print(X[1,:].shape)\n",
    "\n",
    "#callback\n",
    "class myCallback(tf.keras.callbacks.Callback):\n",
    "  def on_epoch_end(self, epoch, logs={}):\n",
    "    if(logs.get('accuracy')>0.998):\n",
    "      print(\"\\nReached 99% accuracy so cancelling training!\")\n",
    "      self.model.stop_training = True\n",
    "\n",
    "callbacks = myCallback()\n",
    "\n",
    "# Model\n",
    "\n",
    "model = tf.keras.models.Sequential([tf.keras.layers.InputLayer(input_shape=(2,)), \n",
    "                                    tf.keras.layers.Dense(64, activation=tf.nn.relu),\n",
    "                                    tf.keras.layers.Dense(32, activation=tf.nn.relu),\n",
    "                                    tf.keras.layers.Dense(1, activation=tf.nn.sigmoid )\n",
    "])\n",
    "model.compile(optimizer='adam',\n",
    "              loss=tf.keras.losses.BinaryCrossentropy(),\n",
    "              metrics=['accuracy'])\n",
    "\n",
    "model.fit(x_train, y_train, epochs=500, batch_size=8, callbacks=[callbacks]) ;\n"
   ]
  },
  {
   "cell_type": "code",
   "execution_count": 28,
   "metadata": {},
   "outputs": [
    {
     "name": "stdout",
     "output_type": "stream",
     "text": [
      "62/62 [==============================] - 0s 1ms/step - loss: 0.0226 - accuracy: 0.9939\n",
      "test loss, test acc: [0.022645488381385803, 0.9939393997192383]\n"
     ]
    }
   ],
   "source": [
    "results = model.evaluate(x_test, y_test, batch_size=16)\n",
    "print('test loss, test acc:', results)"
   ]
  },
  {
   "cell_type": "code",
   "execution_count": 29,
   "metadata": {},
   "outputs": [
    {
     "name": "stdout",
     "output_type": "stream",
     "text": [
      "INFO:tensorflow:Assets written to: saved_model/my_model/assets\n"
     ]
    }
   ],
   "source": [
    "!mkdir -p saved_model\n",
    "model.save('saved_model/my_model') "
   ]
  },
  {
   "cell_type": "code",
   "execution_count": 30,
   "metadata": {},
   "outputs": [
    {
     "name": "stdout",
     "output_type": "stream",
     "text": [
      "my_model\n",
      "assets\tsaved_model.pb\tvariables\n"
     ]
    }
   ],
   "source": [
    "# my_model directory\n",
    "!ls saved_model\n",
    "\n",
    "# Contains an assets folder, saved_model.pb, and variables folder.\n",
    "!ls saved_model/my_model"
   ]
  },
  {
   "cell_type": "code",
   "execution_count": 31,
   "metadata": {},
   "outputs": [],
   "source": [
    "new_model = tf.keras.models.load_model('saved_model/my_model')"
   ]
  },
  {
   "cell_type": "code",
   "execution_count": null,
   "metadata": {},
   "outputs": [],
   "source": []
  }
 ],
 "metadata": {
  "kernelspec": {
   "display_name": "Python 3",
   "language": "python",
   "name": "python3"
  },
  "language_info": {
   "codemirror_mode": {
    "name": "ipython",
    "version": 3
   },
   "file_extension": ".py",
   "mimetype": "text/x-python",
   "name": "python",
   "nbconvert_exporter": "python",
   "pygments_lexer": "ipython3",
   "version": "3.6.9"
  }
 },
 "nbformat": 4,
 "nbformat_minor": 4
}

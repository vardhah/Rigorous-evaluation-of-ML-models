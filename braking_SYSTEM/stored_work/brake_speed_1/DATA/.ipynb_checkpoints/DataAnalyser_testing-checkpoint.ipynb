{
 "cells": [
  {
   "cell_type": "code",
   "execution_count": 15,
   "metadata": {},
   "outputs": [],
   "source": [
    "import pandas as pd \n",
    "import numpy as np\n",
    "from pandas_profiling import ProfileReport\n",
    "import matplotlib.pyplot as plt\n",
    "import tensorflow as tf\n",
    "\n",
    "#csvfile = \"Data_testing_VMC.csv\"  #file name \n",
    "#csvfile = \"Data_testing_PRA.csv\"  #file name \n",
    "csvfile = \"Data_testing_AVF.csv\"  #file name "
   ]
  },
  {
   "cell_type": "code",
   "execution_count": 16,
   "metadata": {},
   "outputs": [
    {
     "data": {
      "text/html": [
       "<div>\n",
       "<style scoped>\n",
       "    .dataframe tbody tr th:only-of-type {\n",
       "        vertical-align: middle;\n",
       "    }\n",
       "\n",
       "    .dataframe tbody tr th {\n",
       "        vertical-align: top;\n",
       "    }\n",
       "\n",
       "    .dataframe thead th {\n",
       "        text-align: right;\n",
       "    }\n",
       "</style>\n",
       "<table border=\"1\" class=\"dataframe\">\n",
       "  <thead>\n",
       "    <tr style=\"text-align: right;\">\n",
       "      <th></th>\n",
       "      <th>Episode</th>\n",
       "      <th>Kick_Speed</th>\n",
       "      <th>friction</th>\n",
       "      <th>Rewards</th>\n",
       "      <th>Stop_Distance</th>\n",
       "    </tr>\n",
       "  </thead>\n",
       "  <tbody>\n",
       "    <tr>\n",
       "      <th>0</th>\n",
       "      <td>0</td>\n",
       "      <td>73.26</td>\n",
       "      <td>0.9</td>\n",
       "      <td>-7.53</td>\n",
       "      <td>13.67</td>\n",
       "    </tr>\n",
       "    <tr>\n",
       "      <th>1</th>\n",
       "      <td>1</td>\n",
       "      <td>40.33</td>\n",
       "      <td>0.9</td>\n",
       "      <td>-28.28</td>\n",
       "      <td>24.39</td>\n",
       "    </tr>\n",
       "    <tr>\n",
       "      <th>2</th>\n",
       "      <td>2</td>\n",
       "      <td>40.30</td>\n",
       "      <td>0.9</td>\n",
       "      <td>-28.27</td>\n",
       "      <td>24.39</td>\n",
       "    </tr>\n",
       "    <tr>\n",
       "      <th>3</th>\n",
       "      <td>3</td>\n",
       "      <td>40.31</td>\n",
       "      <td>0.9</td>\n",
       "      <td>-28.27</td>\n",
       "      <td>24.39</td>\n",
       "    </tr>\n",
       "    <tr>\n",
       "      <th>4</th>\n",
       "      <td>4</td>\n",
       "      <td>76.31</td>\n",
       "      <td>0.9</td>\n",
       "      <td>-35.94</td>\n",
       "      <td>4.42</td>\n",
       "    </tr>\n",
       "  </tbody>\n",
       "</table>\n",
       "</div>"
      ],
      "text/plain": [
       "   Episode  Kick_Speed  friction  Rewards  Stop_Distance\n",
       "0        0       73.26       0.9    -7.53          13.67\n",
       "1        1       40.33       0.9   -28.28          24.39\n",
       "2        2       40.30       0.9   -28.27          24.39\n",
       "3        3       40.31       0.9   -28.27          24.39\n",
       "4        4       76.31       0.9   -35.94           4.42"
      ]
     },
     "execution_count": 16,
     "metadata": {},
     "output_type": "execute_result"
    }
   ],
   "source": [
    "data_test= pd.read_csv(csvfile)\n",
    "data_test.head()"
   ]
  },
  {
   "cell_type": "code",
   "execution_count": 17,
   "metadata": {},
   "outputs": [
    {
     "name": "stdout",
     "output_type": "stream",
     "text": [
      "Size of crashes : 1\n",
      "Size of success : 10\n",
      "Percentage of crash cases:9.09 %\n",
      "Percentage of not crashed cases:90.91 %\n"
     ]
    }
   ],
   "source": [
    "failed = data_test[data_test['Stop_Distance'] <= 0]\n",
    "passed = data_test[data_test['Stop_Distance'] > 0]\n",
    "\n",
    "print('Size of crashes :',failed.shape[0])  \n",
    "print('Size of success :',passed.shape[0]) \n",
    "print(\"Percentage of crash cases:{:.2f}\".format(failed.shape[0]*100/(failed.shape[0]+passed.shape[0])),\"%\")\n",
    "print(\"Percentage of not crashed cases:{:.2f}\".format(passed.shape[0]*100/(failed.shape[0]+passed.shape[0])),\"%\")\n",
    "\n",
    "#failed.to_csv(\"crashed.csv\",index=False)\n",
    "#failed.head()"
   ]
  },
  {
   "cell_type": "code",
   "execution_count": 18,
   "metadata": {},
   "outputs": [
    {
     "data": {
      "image/png": "[encoded data removed]",
      "text/plain": [
       "<Figure size 576x396 with 1 Axes>"
      ]
     },
     "metadata": {},
     "output_type": "display_data"
    }
   ],
   "source": [
    "fig=plt.figure\n",
    "plt.scatter(failed[\"Kick_Speed\"],failed[\"Stop_Distance\"],label='Line 2')\n",
    "plt.grid(color='r', linestyle='-', linewidth=0.5)\n",
    "plt.title(\"Failed cases\")\n",
    "plt.xlabel(\"Intial speed\")\n",
    "plt.ylabel(\"stopping distnace\")\n",
    "plt.show()"
   ]
  },
  {
   "cell_type": "code",
   "execution_count": 19,
   "metadata": {},
   "outputs": [
    {
     "data": {
      "image/png": "[encoded data removed]",
      "text/plain": [
       "<Figure size 576x396 with 1 Axes>"
      ]
     },
     "metadata": {},
     "output_type": "display_data"
    }
   ],
   "source": [
    "fig=plt.figure\n",
    "plt.scatter(passed[\"Kick_Speed\"],passed[\"Stop_Distance\"])\n",
    "plt.grid(color='r', linestyle='-', linewidth=0.5)\n",
    "plt.title(\"Success cases\")\n",
    "plt.xlabel(\"Intial speed\")\n",
    "plt.ylabel(\"distnace\")\n",
    "plt.show()"
   ]
  },
  {
   "cell_type": "code",
   "execution_count": 20,
   "metadata": {},
   "outputs": [
    {
     "data": {
      "text/html": [
       "<div>\n",
       "<style scoped>\n",
       "    .dataframe tbody tr th:only-of-type {\n",
       "        vertical-align: middle;\n",
       "    }\n",
       "\n",
       "    .dataframe tbody tr th {\n",
       "        vertical-align: top;\n",
       "    }\n",
       "\n",
       "    .dataframe thead th {\n",
       "        text-align: right;\n",
       "    }\n",
       "</style>\n",
       "<table border=\"1\" class=\"dataframe\">\n",
       "  <thead>\n",
       "    <tr style=\"text-align: right;\">\n",
       "      <th></th>\n",
       "      <th>Episode</th>\n",
       "      <th>Kick_Speed</th>\n",
       "      <th>friction</th>\n",
       "      <th>Rewards</th>\n",
       "      <th>Stop_Distance</th>\n",
       "      <th>test</th>\n",
       "    </tr>\n",
       "  </thead>\n",
       "  <tbody>\n",
       "    <tr>\n",
       "      <th>0</th>\n",
       "      <td>0</td>\n",
       "      <td>73.26</td>\n",
       "      <td>0.9</td>\n",
       "      <td>-7.53</td>\n",
       "      <td>13.67</td>\n",
       "      <td>0.0</td>\n",
       "    </tr>\n",
       "    <tr>\n",
       "      <th>1</th>\n",
       "      <td>1</td>\n",
       "      <td>40.33</td>\n",
       "      <td>0.9</td>\n",
       "      <td>-28.28</td>\n",
       "      <td>24.39</td>\n",
       "      <td>0.0</td>\n",
       "    </tr>\n",
       "    <tr>\n",
       "      <th>2</th>\n",
       "      <td>2</td>\n",
       "      <td>40.30</td>\n",
       "      <td>0.9</td>\n",
       "      <td>-28.27</td>\n",
       "      <td>24.39</td>\n",
       "      <td>0.0</td>\n",
       "    </tr>\n",
       "    <tr>\n",
       "      <th>3</th>\n",
       "      <td>3</td>\n",
       "      <td>40.31</td>\n",
       "      <td>0.9</td>\n",
       "      <td>-28.27</td>\n",
       "      <td>24.39</td>\n",
       "      <td>0.0</td>\n",
       "    </tr>\n",
       "    <tr>\n",
       "      <th>4</th>\n",
       "      <td>4</td>\n",
       "      <td>76.31</td>\n",
       "      <td>0.9</td>\n",
       "      <td>-35.94</td>\n",
       "      <td>4.42</td>\n",
       "      <td>0.0</td>\n",
       "    </tr>\n",
       "  </tbody>\n",
       "</table>\n",
       "</div>"
      ],
      "text/plain": [
       "   Episode  Kick_Speed  friction  Rewards  Stop_Distance  test\n",
       "0        0       73.26       0.9    -7.53          13.67   0.0\n",
       "1        1       40.33       0.9   -28.28          24.39   0.0\n",
       "2        2       40.30       0.9   -28.27          24.39   0.0\n",
       "3        3       40.31       0.9   -28.27          24.39   0.0\n",
       "4        4       76.31       0.9   -35.94           4.42   0.0"
      ]
     },
     "execution_count": 20,
     "metadata": {},
     "output_type": "execute_result"
    }
   ],
   "source": [
    "data_test.loc[data_test['Stop_Distance'] <= 0, 'test'] = int(1)\n",
    "data_test.loc[data_test['Stop_Distance'] > 0, 'test'] = int(0)\n",
    "data_test.head()"
   ]
  },
  {
   "cell_type": "code",
   "execution_count": 21,
   "metadata": {},
   "outputs": [
    {
     "name": "stdout",
     "output_type": "stream",
     "text": [
      "Total number of episodes: 11\n",
      "Number of Pass: 9\n",
      "Number of fail: 1\n"
     ]
    },
    {
     "data": {
      "image/png": "[encoded data removed]",
      "text/plain": [
       "<Figure size 576x396 with 1 Axes>"
      ]
     },
     "metadata": {},
     "output_type": "display_data"
    }
   ],
   "source": [
    "print('Total number of episodes:',data_test['Episode'].shape[0])\n",
    "start=1\n",
    "end=6257\n",
    "\n",
    "fig, ax = plt.subplots()\n",
    "episode=np.array(data_test['Episode'].values.tolist()[start:end])\n",
    "test=np.array(data_test['test'].values.tolist()[start:end])\n",
    "speed=np.array(data_test['Kick_Speed'].values.tolist()[start:end])\n",
    "\n",
    "indices = test == 0\n",
    "print('Number of Pass:',indices.sum())\n",
    "print('Number of fail:',indices.shape[0]-indices.sum())\n",
    "\n",
    "# normal values\n",
    "ax.scatter(episode[~indices], speed[~indices], c = 'red',label='fail')\n",
    "# bad values\n",
    "ax.scatter(episode[indices], speed[indices], c = 'grey',label='Pass')\n",
    "#ax.legend()\n",
    "ax.set_ylim([0,95])\n",
    "plt.xlabel('episode')\n",
    "plt.ylabel('speed (miles/hr)')\n",
    "ax.grid(True) \n",
    "plt.show()"
   ]
  },
  {
   "cell_type": "code",
   "execution_count": null,
   "metadata": {},
   "outputs": [],
   "source": []
  },
  {
   "cell_type": "code",
   "execution_count": null,
   "metadata": {},
   "outputs": [],
   "source": []
  },
  {
   "cell_type": "code",
   "execution_count": null,
   "metadata": {},
   "outputs": [],
   "source": []
  },
  {
   "cell_type": "code",
   "execution_count": null,
   "metadata": {},
   "outputs": [],
   "source": []
  },
  {
   "cell_type": "code",
   "execution_count": null,
   "metadata": {},
   "outputs": [],
   "source": []
  },
  {
   "cell_type": "code",
   "execution_count": null,
   "metadata": {},
   "outputs": [],
   "source": []
  },
  {
   "cell_type": "code",
   "execution_count": null,
   "metadata": {},
   "outputs": [],
   "source": []
  },
  {
   "cell_type": "code",
   "execution_count": null,
   "metadata": {},
   "outputs": [],
   "source": []
  },
  {
   "cell_type": "code",
   "execution_count": null,
   "metadata": {},
   "outputs": [],
   "source": []
  },
  {
   "cell_type": "code",
   "execution_count": null,
   "metadata": {},
   "outputs": [],
   "source": []
  },
  {
   "cell_type": "code",
   "execution_count": null,
   "metadata": {},
   "outputs": [],
   "source": []
  },
  {
   "cell_type": "code",
   "execution_count": null,
   "metadata": {},
   "outputs": [],
   "source": []
  }
 ],
 "metadata": {
  "kernelspec": {
   "display_name": "Python 3",
   "language": "python",
   "name": "python3"
  },
  "language_info": {
   "codemirror_mode": {
    "name": "ipython",
    "version": 3
   },
   "file_extension": ".py",
   "mimetype": "text/x-python",
   "name": "python",
   "nbconvert_exporter": "python",
   "pygments_lexer": "ipython3",
   "version": "3.6.9"
  }
 },
 "nbformat": 4,
 "nbformat_minor": 4
}

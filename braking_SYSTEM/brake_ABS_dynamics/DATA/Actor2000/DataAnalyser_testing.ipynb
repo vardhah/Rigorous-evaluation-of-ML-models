{
 "cells": [
  {
   "cell_type": "code",
   "execution_count": 15,
   "metadata": {},
   "outputs": [],
   "source": [
    "import pandas as pd \n",
    "import numpy as np\n",
    "from pandas_profiling import ProfileReport\n",
    "import matplotlib.pyplot as plt\n",
    "import tensorflow as tf\n",
    "\n",
    "csvfile = \"Data_testing.csv\"  #file name \n",
    "#csvfile = \"Data_actor2000.pt.csv\"  #file name "
   ]
  },
  {
   "cell_type": "code",
   "execution_count": 16,
   "metadata": {},
   "outputs": [
    {
     "data": {
      "text/html": [
       "<div>\n",
       "<style scoped>\n",
       "    .dataframe tbody tr th:only-of-type {\n",
       "        vertical-align: middle;\n",
       "    }\n",
       "\n",
       "    .dataframe tbody tr th {\n",
       "        vertical-align: top;\n",
       "    }\n",
       "\n",
       "    .dataframe thead th {\n",
       "        text-align: right;\n",
       "    }\n",
       "</style>\n",
       "<table border=\"1\" class=\"dataframe\">\n",
       "  <thead>\n",
       "    <tr style=\"text-align: right;\">\n",
       "      <th></th>\n",
       "      <th>Episode</th>\n",
       "      <th>Kick_Speed</th>\n",
       "      <th>friction</th>\n",
       "      <th>variance_friction</th>\n",
       "      <th>Rewards</th>\n",
       "      <th>Stop_Distance</th>\n",
       "    </tr>\n",
       "  </thead>\n",
       "  <tbody>\n",
       "    <tr>\n",
       "      <th>0</th>\n",
       "      <td>0</td>\n",
       "      <td>33.25</td>\n",
       "      <td>0.7</td>\n",
       "      <td>0.3</td>\n",
       "      <td>-56.17</td>\n",
       "      <td>34.26</td>\n",
       "    </tr>\n",
       "    <tr>\n",
       "      <th>1</th>\n",
       "      <td>1</td>\n",
       "      <td>22.30</td>\n",
       "      <td>0.7</td>\n",
       "      <td>0.3</td>\n",
       "      <td>0.00</td>\n",
       "      <td>6.72</td>\n",
       "    </tr>\n",
       "    <tr>\n",
       "      <th>2</th>\n",
       "      <td>2</td>\n",
       "      <td>38.58</td>\n",
       "      <td>0.7</td>\n",
       "      <td>0.3</td>\n",
       "      <td>-89.19</td>\n",
       "      <td>38.70</td>\n",
       "    </tr>\n",
       "    <tr>\n",
       "      <th>3</th>\n",
       "      <td>3</td>\n",
       "      <td>35.49</td>\n",
       "      <td>0.7</td>\n",
       "      <td>0.3</td>\n",
       "      <td>-70.05</td>\n",
       "      <td>36.23</td>\n",
       "    </tr>\n",
       "    <tr>\n",
       "      <th>4</th>\n",
       "      <td>4</td>\n",
       "      <td>34.45</td>\n",
       "      <td>0.7</td>\n",
       "      <td>0.3</td>\n",
       "      <td>-62.00</td>\n",
       "      <td>35.11</td>\n",
       "    </tr>\n",
       "  </tbody>\n",
       "</table>\n",
       "</div>"
      ],
      "text/plain": [
       "   Episode  Kick_Speed  friction  variance_friction  Rewards  Stop_Distance\n",
       "0        0       33.25       0.7                0.3   -56.17          34.26\n",
       "1        1       22.30       0.7                0.3     0.00           6.72\n",
       "2        2       38.58       0.7                0.3   -89.19          38.70\n",
       "3        3       35.49       0.7                0.3   -70.05          36.23\n",
       "4        4       34.45       0.7                0.3   -62.00          35.11"
      ]
     },
     "execution_count": 16,
     "metadata": {},
     "output_type": "execute_result"
    }
   ],
   "source": [
    "data_test= pd.read_csv(csvfile)\n",
    "data_test.head()"
   ]
  },
  {
   "cell_type": "code",
   "execution_count": 3,
   "metadata": {},
   "outputs": [
    {
     "data": {
      "application/vnd.jupyter.widget-view+json": {
       "model_id": "87d61c77293a46c2a880373c720266d7",
       "version_major": 2,
       "version_minor": 0
      },
      "text/plain": [
       "HBox(children=(FloatProgress(value=0.0, description='variables', max=6.0, style=ProgressStyle(description_widt…"
      ]
     },
     "metadata": {},
     "output_type": "display_data"
    },
    {
     "name": "stdout",
     "output_type": "stream",
     "text": [
      "\n"
     ]
    },
    {
     "data": {
      "application/vnd.jupyter.widget-view+json": {
       "model_id": "48f9085b57464a268adbfd0c3583801b",
       "version_major": 2,
       "version_minor": 0
      },
      "text/plain": [
       "HBox(children=(FloatProgress(value=0.0, description='table', max=1.0, style=ProgressStyle(description_width='i…"
      ]
     },
     "metadata": {},
     "output_type": "display_data"
    },
    {
     "name": "stdout",
     "output_type": "stream",
     "text": [
      "\n"
     ]
    },
    {
     "data": {
      "application/vnd.jupyter.widget-view+json": {
       "model_id": "b67306e6248e47aea8c911e4d81da2b6",
       "version_major": 2,
       "version_minor": 0
      },
      "text/plain": [
       "HBox(children=(FloatProgress(value=0.0, description='warnings', max=3.0, style=ProgressStyle(description_width…"
      ]
     },
     "metadata": {},
     "output_type": "display_data"
    },
    {
     "name": "stdout",
     "output_type": "stream",
     "text": [
      "\n"
     ]
    },
    {
     "data": {
      "application/vnd.jupyter.widget-view+json": {
       "model_id": "6853ba9dec0245a9a7820f5d5f7bed88",
       "version_major": 2,
       "version_minor": 0
      },
      "text/plain": [
       "HBox(children=(FloatProgress(value=0.0, description='package', max=1.0, style=ProgressStyle(description_width=…"
      ]
     },
     "metadata": {},
     "output_type": "display_data"
    },
    {
     "name": "stdout",
     "output_type": "stream",
     "text": [
      "\n"
     ]
    },
    {
     "data": {
      "application/vnd.jupyter.widget-view+json": {
       "model_id": "9eba7624fc02477d91ea2aab076d71e8",
       "version_major": 2,
       "version_minor": 0
      },
      "text/plain": [
       "HBox(children=(FloatProgress(value=0.0, description='build report structure', max=1.0, style=ProgressStyle(des…"
      ]
     },
     "metadata": {},
     "output_type": "display_data"
    },
    {
     "name": "stdout",
     "output_type": "stream",
     "text": [
      "\n"
     ]
    }
   ],
   "source": [
    "profile = ProfileReport(data_test, minimal=True)\n",
    "profile.to_file(output_file=\"output.html\")"
   ]
  },
  {
   "cell_type": "code",
   "execution_count": 17,
   "metadata": {},
   "outputs": [
    {
     "name": "stdout",
     "output_type": "stream",
     "text": [
      "Size of crashes : 0\n",
      "Size of success : 2000\n",
      "Percentage of crash cases:0.00 %\n",
      "Percentage of not crashed cases:100.00 %\n"
     ]
    }
   ],
   "source": [
    "failed = data_test[data_test['Stop_Distance'] <= 5]\n",
    "passed = data_test[data_test['Stop_Distance'] > 5]\n",
    "\n",
    "print('Size of crashes :',failed.shape[0])  \n",
    "print('Size of success :',passed.shape[0]) \n",
    "print(\"Percentage of crash cases:{:.2f}\".format(failed.shape[0]*100/(failed.shape[0]+passed.shape[0])),\"%\")\n",
    "print(\"Percentage of not crashed cases:{:.2f}\".format(passed.shape[0]*100/(failed.shape[0]+passed.shape[0])),\"%\")\n",
    "\n",
    "#failed.to_csv(\"crashed.csv\",index=False)\n",
    "#failed.head()"
   ]
  },
  {
   "cell_type": "code",
   "execution_count": 5,
   "metadata": {},
   "outputs": [],
   "source": [
    "#passed.to_csv(\"not_crashed.csv\",index=False  )\n",
    "#passed.head()"
   ]
  },
  {
   "cell_type": "code",
   "execution_count": 6,
   "metadata": {},
   "outputs": [
    {
     "data": {
      "image/png": "[encoded data removed]",
      "text/plain": [
       "<Figure size 576x396 with 1 Axes>"
      ]
     },
     "metadata": {},
     "output_type": "display_data"
    },
    {
     "data": {
      "image/png": "[encoded data removed]",
      "text/plain": [
       "<Figure size 576x396 with 1 Axes>"
      ]
     },
     "metadata": {},
     "output_type": "display_data"
    }
   ],
   "source": [
    "fig=plt.figure\n",
    "plt.scatter(failed[\"Kick_Speed\"],failed[\"Stop_Distance\"],label='Line 2')\n",
    "plt.grid(color='r', linestyle='-', linewidth=0.5)\n",
    "plt.title(\"Failed cases\")\n",
    "plt.xlabel(\"Intial speed\")\n",
    "plt.ylabel(\"stopping distnace\")\n",
    "plt.show()\n",
    "\n",
    "fig=plt.figure\n",
    "plt.scatter(failed[\"friction\"],failed[\"Stop_Distance\"],label='Line 2')\n",
    "plt.grid(color='g', linestyle='-', linewidth=0.5)\n",
    "plt.title(\"Failed cases\")\n",
    "plt.xlabel(\"Intial speed\")\n",
    "plt.ylabel(\"friction\")\n",
    "plt.show()\n"
   ]
  },
  {
   "cell_type": "code",
   "execution_count": 7,
   "metadata": {},
   "outputs": [
    {
     "data": {
      "image/png": "[encoded data removed]",
      "text/plain": [
       "<Figure size 576x396 with 1 Axes>"
      ]
     },
     "metadata": {},
     "output_type": "display_data"
    },
    {
     "data": {
      "image/png": "[encoded data removed]",
      "text/plain": [
       "<Figure size 576x396 with 1 Axes>"
      ]
     },
     "metadata": {},
     "output_type": "display_data"
    }
   ],
   "source": [
    "fig=plt.figure\n",
    "plt.scatter(passed[\"Kick_Speed\"],passed[\"Stop_Distance\"])\n",
    "plt.grid(color='r', linestyle='-', linewidth=0.5)\n",
    "plt.title(\"Success cases\")\n",
    "plt.xlabel(\"Intial speed\")\n",
    "plt.ylabel(\"distnace\")\n",
    "plt.show()\n",
    "\n",
    "fig=plt.figure\n",
    "plt.scatter(passed[\"friction\"],passed[\"Stop_Distance\"],label='Line 2')\n",
    "plt.grid(color='g', linestyle='-', linewidth=0.5)\n",
    "plt.title(\"Failed cases\")\n",
    "plt.xlabel(\"friction\")\n",
    "plt.ylabel(\"stop distance\")\n",
    "plt.show()"
   ]
  },
  {
   "cell_type": "code",
   "execution_count": 18,
   "metadata": {},
   "outputs": [
    {
     "data": {
      "text/html": [
       "<div>\n",
       "<style scoped>\n",
       "    .dataframe tbody tr th:only-of-type {\n",
       "        vertical-align: middle;\n",
       "    }\n",
       "\n",
       "    .dataframe tbody tr th {\n",
       "        vertical-align: top;\n",
       "    }\n",
       "\n",
       "    .dataframe thead th {\n",
       "        text-align: right;\n",
       "    }\n",
       "</style>\n",
       "<table border=\"1\" class=\"dataframe\">\n",
       "  <thead>\n",
       "    <tr style=\"text-align: right;\">\n",
       "      <th></th>\n",
       "      <th>Episode</th>\n",
       "      <th>Kick_Speed</th>\n",
       "      <th>friction</th>\n",
       "      <th>variance_friction</th>\n",
       "      <th>Rewards</th>\n",
       "      <th>Stop_Distance</th>\n",
       "      <th>test</th>\n",
       "    </tr>\n",
       "  </thead>\n",
       "  <tbody>\n",
       "    <tr>\n",
       "      <th>0</th>\n",
       "      <td>0</td>\n",
       "      <td>33.25</td>\n",
       "      <td>0.7</td>\n",
       "      <td>0.3</td>\n",
       "      <td>-56.17</td>\n",
       "      <td>34.26</td>\n",
       "      <td>0.0</td>\n",
       "    </tr>\n",
       "    <tr>\n",
       "      <th>1</th>\n",
       "      <td>1</td>\n",
       "      <td>22.30</td>\n",
       "      <td>0.7</td>\n",
       "      <td>0.3</td>\n",
       "      <td>0.00</td>\n",
       "      <td>6.72</td>\n",
       "      <td>0.0</td>\n",
       "    </tr>\n",
       "    <tr>\n",
       "      <th>2</th>\n",
       "      <td>2</td>\n",
       "      <td>38.58</td>\n",
       "      <td>0.7</td>\n",
       "      <td>0.3</td>\n",
       "      <td>-89.19</td>\n",
       "      <td>38.70</td>\n",
       "      <td>0.0</td>\n",
       "    </tr>\n",
       "    <tr>\n",
       "      <th>3</th>\n",
       "      <td>3</td>\n",
       "      <td>35.49</td>\n",
       "      <td>0.7</td>\n",
       "      <td>0.3</td>\n",
       "      <td>-70.05</td>\n",
       "      <td>36.23</td>\n",
       "      <td>0.0</td>\n",
       "    </tr>\n",
       "    <tr>\n",
       "      <th>4</th>\n",
       "      <td>4</td>\n",
       "      <td>34.45</td>\n",
       "      <td>0.7</td>\n",
       "      <td>0.3</td>\n",
       "      <td>-62.00</td>\n",
       "      <td>35.11</td>\n",
       "      <td>0.0</td>\n",
       "    </tr>\n",
       "  </tbody>\n",
       "</table>\n",
       "</div>"
      ],
      "text/plain": [
       "   Episode  Kick_Speed  friction  variance_friction  Rewards  Stop_Distance  \\\n",
       "0        0       33.25       0.7                0.3   -56.17          34.26   \n",
       "1        1       22.30       0.7                0.3     0.00           6.72   \n",
       "2        2       38.58       0.7                0.3   -89.19          38.70   \n",
       "3        3       35.49       0.7                0.3   -70.05          36.23   \n",
       "4        4       34.45       0.7                0.3   -62.00          35.11   \n",
       "\n",
       "   test  \n",
       "0   0.0  \n",
       "1   0.0  \n",
       "2   0.0  \n",
       "3   0.0  \n",
       "4   0.0  "
      ]
     },
     "execution_count": 18,
     "metadata": {},
     "output_type": "execute_result"
    }
   ],
   "source": [
    "data_test.loc[data_test['Stop_Distance'] <= 5, 'test'] = int(1)\n",
    "data_test.loc[data_test['Stop_Distance'] > 5, 'test'] = int(0)\n",
    "data_test.head()"
   ]
  },
  {
   "cell_type": "code",
   "execution_count": 19,
   "metadata": {},
   "outputs": [
    {
     "name": "stdout",
     "output_type": "stream",
     "text": [
      "Total number of episodes: 2000\n",
      "Number of Pass: 1999\n",
      "Number of fail: 0\n"
     ]
    },
    {
     "data": {
      "image/png": "[encoded data removed]",
      "text/plain": [
       "<Figure size 576x396 with 1 Axes>"
      ]
     },
     "metadata": {},
     "output_type": "display_data"
    }
   ],
   "source": [
    "print('Total number of episodes:',data_test['Episode'].shape[0])\n",
    "start=1\n",
    "end=32000\n",
    "\n",
    "fig, ax = plt.subplots()\n",
    "episode=np.array(data_test['Episode'].values.tolist()[start:end])\n",
    "test=np.array(data_test['test'].values.tolist()[start:end])\n",
    "speed=np.array(data_test['Kick_Speed'].values.tolist()[start:end])\n",
    "\n",
    "indices = test == 0\n",
    "print('Number of Pass:',indices.sum())\n",
    "print('Number of fail:',indices.shape[0]-indices.sum())\n",
    "\n",
    "# normal values\n",
    "ax.scatter(episode[~indices], speed[~indices], c = 'red',label='fail')\n",
    "# bad values\n",
    "ax.scatter(episode[indices], speed[indices], c = 'grey',label='Pass')\n",
    "#ax.legend()\n",
    "ax.set_ylim([0,95])\n",
    "plt.xlabel('episode')\n",
    "plt.ylabel('speed (miles/hr)')\n",
    "ax.grid(True) \n",
    "plt.show()\n",
    "figname=csvfile+'.png'\n",
    "fig.savefig(figname)"
   ]
  },
  {
   "cell_type": "code",
   "execution_count": null,
   "metadata": {},
   "outputs": [],
   "source": []
  },
  {
   "cell_type": "code",
   "execution_count": null,
   "metadata": {},
   "outputs": [],
   "source": []
  },
  {
   "cell_type": "code",
   "execution_count": 32,
   "metadata": {},
   "outputs": [
    {
     "name": "stdout",
     "output_type": "stream",
     "text": [
      "Failures:  [0, 0, 0, 0, 0, 0, 0, 0]\n"
     ]
    },
    {
     "data": {
      "image/png": "[encoded data removed]",
      "text/plain": [
       "<Figure size 576x396 with 1 Axes>"
      ]
     },
     "metadata": {},
     "output_type": "display_data"
    }
   ],
   "source": [
    "step=500\n",
    "failure=[]\n",
    "fig, ax = plt.subplots()\n",
    "for i in range(int(data_test['Episode'].shape[0]/step)):\n",
    "    start=step*i\n",
    "    episode=np.array(data_test['Episode'].values.tolist()[start:start+step])\n",
    "    test=np.array(data_test['test'].values.tolist()[start:start+step])\n",
    "    indices = test == 1\n",
    "    failure.append(indices.sum())\n",
    "print('Failures: ',failure)\n",
    "ax.plot(failure,marker='o', linestyle='dashed',linewidth=2, markersize=12)\n",
    "plt.xlabel('(index+1)*1000 episodes')\n",
    "plt.ylabel('Failures/1000 episodes')\n",
    "ax.grid(True) \n",
    "plt.show()   "
   ]
  },
  {
   "cell_type": "code",
   "execution_count": 33,
   "metadata": {},
   "outputs": [
    {
     "name": "stdout",
     "output_type": "stream",
     "text": [
      "std is: [866.02535567  11.02501264]\n",
      "Mean is: [2499.5          38.33647333]\n"
     ]
    },
    {
     "data": {
      "text/html": [
       "<div>\n",
       "<style scoped>\n",
       "    .dataframe tbody tr th:only-of-type {\n",
       "        vertical-align: middle;\n",
       "    }\n",
       "\n",
       "    .dataframe tbody tr th {\n",
       "        vertical-align: top;\n",
       "    }\n",
       "\n",
       "    .dataframe thead th {\n",
       "        text-align: right;\n",
       "    }\n",
       "</style>\n",
       "<table border=\"1\" class=\"dataframe\">\n",
       "  <thead>\n",
       "    <tr style=\"text-align: right;\">\n",
       "      <th></th>\n",
       "      <th>Episode</th>\n",
       "      <th>Kick_Speed</th>\n",
       "      <th>test</th>\n",
       "    </tr>\n",
       "  </thead>\n",
       "  <tbody>\n",
       "    <tr>\n",
       "      <th>1000</th>\n",
       "      <td>-1.731474</td>\n",
       "      <td>0.347712</td>\n",
       "      <td>0.0</td>\n",
       "    </tr>\n",
       "    <tr>\n",
       "      <th>1001</th>\n",
       "      <td>-1.730319</td>\n",
       "      <td>0.822995</td>\n",
       "      <td>0.0</td>\n",
       "    </tr>\n",
       "    <tr>\n",
       "      <th>1002</th>\n",
       "      <td>-1.729164</td>\n",
       "      <td>1.048845</td>\n",
       "      <td>0.0</td>\n",
       "    </tr>\n",
       "    <tr>\n",
       "      <th>1003</th>\n",
       "      <td>-1.728009</td>\n",
       "      <td>1.304627</td>\n",
       "      <td>0.0</td>\n",
       "    </tr>\n",
       "    <tr>\n",
       "      <th>1004</th>\n",
       "      <td>-1.726855</td>\n",
       "      <td>0.683312</td>\n",
       "      <td>0.0</td>\n",
       "    </tr>\n",
       "  </tbody>\n",
       "</table>\n",
       "</div>"
      ],
      "text/plain": [
       "       Episode  Kick_Speed  test\n",
       "1000 -1.731474    0.347712   0.0\n",
       "1001 -1.730319    0.822995   0.0\n",
       "1002 -1.729164    1.048845   0.0\n",
       "1003 -1.728009    1.304627   0.0\n",
       "1004 -1.726855    0.683312   0.0"
      ]
     },
     "execution_count": 33,
     "metadata": {},
     "output_type": "execute_result"
    }
   ],
   "source": [
    "#data for AVF training:\n",
    "iteration_start=1000\n",
    "iteration_end=4000\n",
    "data=data_test[[\"Episode\", \"Kick_Speed\",\"test\"]][iteration_start:iteration_end]\n",
    "std=np.std(data[[\"Episode\", \"Kick_Speed\"]].values,axis=0)\n",
    "mean=np.mean(data[[\"Episode\", \"Kick_Speed\"]].values,axis=0)\n",
    "np.savez('stdmean.npz',std=std, mean=mean)\n",
    "data[[\"Episode\", \"Kick_Speed\"]]=np.divide(np.subtract(data[[\"Episode\", \"Kick_Speed\"]],mean),std)\n",
    "print('std is:',std)\n",
    "print('Mean is:',mean)\n",
    "data.head()"
   ]
  },
  {
   "cell_type": "code",
   "execution_count": 34,
   "metadata": {},
   "outputs": [
    {
     "name": "stdout",
     "output_type": "stream",
     "text": [
      "(3000, 2)\n",
      "(3000,)\n",
      "(2,)\n",
      "Epoch 1/500\n",
      "252/252 [==============================] - 0s 2ms/step - loss: 0.1110 - accuracy: 0.9950\n",
      "Epoch 2/500\n",
      "245/252 [============================>.] - ETA: 0s - loss: 0.0020 - accuracy: 1.0000\n",
      "Reached 99% accuracy so cancelling training!\n",
      "252/252 [==============================] - 0s 2ms/step - loss: 0.0019 - accuracy: 1.0000\n"
     ]
    }
   ],
   "source": [
    "#AVF Training \n",
    "\n",
    "\n",
    "X=data[[\"Episode\",\"Kick_Speed\"]].values\n",
    "print(X.shape)\n",
    "Y=data[\"test\"]\n",
    "print(Y.shape)\n",
    "import tensorflow as tf\n",
    "from tensorflow import keras\n",
    "from sklearn.model_selection import train_test_split\n",
    "\n",
    "#test train split\n",
    "x_train, x_test, y_train, y_test = train_test_split(X, Y, test_size=0.33, random_state=42)\n",
    "print(X[1,:].shape)\n",
    "\n",
    "#callback\n",
    "class myCallback(tf.keras.callbacks.Callback):\n",
    "  def on_epoch_end(self, epoch, logs={}):\n",
    "    if(logs.get('accuracy')>0.999):\n",
    "      print(\"\\nReached 99% accuracy so cancelling training!\")\n",
    "      self.model.stop_training = True\n",
    "\n",
    "callbacks = myCallback()\n",
    "\n",
    "# Model\n",
    "\n",
    "model = tf.keras.models.Sequential([tf.keras.layers.InputLayer(input_shape=(2,)), \n",
    "                                    tf.keras.layers.Dense(64, activation=tf.nn.relu),\n",
    "                                    tf.keras.layers.Dense(32, activation=tf.nn.relu),\n",
    "                                    tf.keras.layers.Dense(1, activation=tf.nn.sigmoid )\n",
    "])\n",
    "model.compile(optimizer='adam',\n",
    "              loss=tf.keras.losses.BinaryCrossentropy(),\n",
    "              metrics=['accuracy'])\n",
    "\n",
    "model.fit(x_train, y_train, epochs=500, batch_size=8, callbacks=[callbacks]) ;\n"
   ]
  },
  {
   "cell_type": "code",
   "execution_count": 13,
   "metadata": {},
   "outputs": [
    {
     "name": "stdout",
     "output_type": "stream",
     "text": [
      "62/62 [==============================] - 0s 1ms/step - loss: 0.0073 - accuracy: 0.9970\n",
      "test loss, test acc: [0.00732088927179575, 0.9969696998596191]\n"
     ]
    }
   ],
   "source": [
    "results = model.evaluate(x_test, y_test, batch_size=16)\n",
    "print('test loss, test acc:', results)"
   ]
  },
  {
   "cell_type": "code",
   "execution_count": 14,
   "metadata": {},
   "outputs": [
    {
     "name": "stdout",
     "output_type": "stream",
     "text": [
      "WARNING:tensorflow:From /home/hv/.local/lib/python3.6/site-packages/tensorflow/python/ops/resource_variable_ops.py:1817: calling BaseResourceVariable.__init__ (from tensorflow.python.ops.resource_variable_ops) with constraint is deprecated and will be removed in a future version.\n",
      "Instructions for updating:\n",
      "If using Keras pass *_constraint arguments to layers.\n",
      "INFO:tensorflow:Assets written to: saved_model/my_model/assets\n"
     ]
    }
   ],
   "source": [
    "!mkdir -p saved_model\n",
    "model.save('saved_model/my_model') "
   ]
  },
  {
   "cell_type": "code",
   "execution_count": 15,
   "metadata": {},
   "outputs": [
    {
     "name": "stdout",
     "output_type": "stream",
     "text": [
      "my_model\n",
      "assets\tsaved_model.pb\tvariables\n"
     ]
    }
   ],
   "source": [
    "# my_model directory\n",
    "!ls saved_model\n",
    "\n",
    "# Contains an assets folder, saved_model.pb, and variables folder.\n",
    "!ls saved_model/my_model"
   ]
  },
  {
   "cell_type": "code",
   "execution_count": 16,
   "metadata": {},
   "outputs": [],
   "source": [
    "new_model = tf.keras.models.load_model('saved_model/my_model')"
   ]
  },
  {
   "cell_type": "code",
   "execution_count": null,
   "metadata": {},
   "outputs": [],
   "source": []
  }
 ],
 "metadata": {
  "kernelspec": {
   "display_name": "Python 3",
   "language": "python",
   "name": "python3"
  },
  "language_info": {
   "codemirror_mode": {
    "name": "ipython",
    "version": 3
   },
   "file_extension": ".py",
   "mimetype": "text/x-python",
   "name": "python",
   "nbconvert_exporter": "python",
   "pygments_lexer": "ipython3",
   "version": "3.6.9"
  }
 },
 "nbformat": 4,
 "nbformat_minor": 4
}

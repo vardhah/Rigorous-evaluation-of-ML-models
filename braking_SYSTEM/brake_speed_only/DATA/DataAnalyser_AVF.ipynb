{
 "cells": [
  {
   "cell_type": "code",
   "execution_count": 1,
   "metadata": {},
   "outputs": [],
   "source": [
    "import pandas as pd \n",
    "import numpy as np\n",
    "from pandas_profiling import ProfileReport\n",
    "import matplotlib.pyplot as plt\n",
    "import tensorflow as tf\n",
    "\n",
    "csvfile = \"Data_training.csv\"  #file name \n",
    "#csvfile = \"Data_actor2000.pt.csv\"  #file name "
   ]
  },
  {
   "cell_type": "code",
   "execution_count": 2,
   "metadata": {
    "scrolled": true
   },
   "outputs": [
    {
     "data": {
      "text/html": [
       "<div>\n",
       "<style scoped>\n",
       "    .dataframe tbody tr th:only-of-type {\n",
       "        vertical-align: middle;\n",
       "    }\n",
       "\n",
       "    .dataframe tbody tr th {\n",
       "        vertical-align: top;\n",
       "    }\n",
       "\n",
       "    .dataframe thead th {\n",
       "        text-align: right;\n",
       "    }\n",
       "</style>\n",
       "<table border=\"1\" class=\"dataframe\">\n",
       "  <thead>\n",
       "    <tr style=\"text-align: right;\">\n",
       "      <th></th>\n",
       "      <th>Episode</th>\n",
       "      <th>Kick_Speed</th>\n",
       "      <th>friction</th>\n",
       "      <th>variance_friction</th>\n",
       "      <th>Rewards</th>\n",
       "      <th>Stop_Distance</th>\n",
       "    </tr>\n",
       "  </thead>\n",
       "  <tbody>\n",
       "    <tr>\n",
       "      <th>0</th>\n",
       "      <td>0</td>\n",
       "      <td>45.04</td>\n",
       "      <td>0.7</td>\n",
       "      <td>0.3</td>\n",
       "      <td>0.00</td>\n",
       "      <td>7.48</td>\n",
       "    </tr>\n",
       "    <tr>\n",
       "      <th>1</th>\n",
       "      <td>1</td>\n",
       "      <td>44.27</td>\n",
       "      <td>0.7</td>\n",
       "      <td>0.3</td>\n",
       "      <td>-16.03</td>\n",
       "      <td>16.48</td>\n",
       "    </tr>\n",
       "    <tr>\n",
       "      <th>2</th>\n",
       "      <td>2</td>\n",
       "      <td>40.04</td>\n",
       "      <td>0.7</td>\n",
       "      <td>0.3</td>\n",
       "      <td>-52.84</td>\n",
       "      <td>28.87</td>\n",
       "    </tr>\n",
       "    <tr>\n",
       "      <th>3</th>\n",
       "      <td>3</td>\n",
       "      <td>31.59</td>\n",
       "      <td>0.7</td>\n",
       "      <td>0.3</td>\n",
       "      <td>-189.11</td>\n",
       "      <td>58.29</td>\n",
       "    </tr>\n",
       "    <tr>\n",
       "      <th>4</th>\n",
       "      <td>4</td>\n",
       "      <td>36.21</td>\n",
       "      <td>0.7</td>\n",
       "      <td>0.3</td>\n",
       "      <td>-80.87</td>\n",
       "      <td>42.64</td>\n",
       "    </tr>\n",
       "  </tbody>\n",
       "</table>\n",
       "</div>"
      ],
      "text/plain": [
       "   Episode  Kick_Speed  friction  variance_friction  Rewards  Stop_Distance\n",
       "0        0       45.04       0.7                0.3     0.00           7.48\n",
       "1        1       44.27       0.7                0.3   -16.03          16.48\n",
       "2        2       40.04       0.7                0.3   -52.84          28.87\n",
       "3        3       31.59       0.7                0.3  -189.11          58.29\n",
       "4        4       36.21       0.7                0.3   -80.87          42.64"
      ]
     },
     "execution_count": 2,
     "metadata": {},
     "output_type": "execute_result"
    }
   ],
   "source": [
    "data_test= pd.read_csv(csvfile)\n",
    "data_test.head()"
   ]
  },
  {
   "cell_type": "code",
   "execution_count": 3,
   "metadata": {},
   "outputs": [
    {
     "data": {
      "application/vnd.jupyter.widget-view+json": {
       "model_id": "187e94a42c704e4fa5f46d2c1627ef94",
       "version_major": 2,
       "version_minor": 0
      },
      "text/plain": [
       "HBox(children=(FloatProgress(value=0.0, description='variables', max=6.0, style=ProgressStyle(description_widt…"
      ]
     },
     "metadata": {},
     "output_type": "display_data"
    },
    {
     "name": "stdout",
     "output_type": "stream",
     "text": [
      "\n"
     ]
    },
    {
     "data": {
      "application/vnd.jupyter.widget-view+json": {
       "model_id": "72eb185ee3e84b368b9d0e4370811e84",
       "version_major": 2,
       "version_minor": 0
      },
      "text/plain": [
       "HBox(children=(FloatProgress(value=0.0, description='table', max=1.0, style=ProgressStyle(description_width='i…"
      ]
     },
     "metadata": {},
     "output_type": "display_data"
    },
    {
     "name": "stdout",
     "output_type": "stream",
     "text": [
      "\n"
     ]
    },
    {
     "data": {
      "application/vnd.jupyter.widget-view+json": {
       "model_id": "9a2167e9092c47a2b6e2d0e20c6e757e",
       "version_major": 2,
       "version_minor": 0
      },
      "text/plain": [
       "HBox(children=(FloatProgress(value=0.0, description='warnings', max=3.0, style=ProgressStyle(description_width…"
      ]
     },
     "metadata": {},
     "output_type": "display_data"
    },
    {
     "name": "stdout",
     "output_type": "stream",
     "text": [
      "\n"
     ]
    },
    {
     "data": {
      "application/vnd.jupyter.widget-view+json": {
       "model_id": "a0b7a4c344b44dd789a825325e8b753e",
       "version_major": 2,
       "version_minor": 0
      },
      "text/plain": [
       "HBox(children=(FloatProgress(value=0.0, description='package', max=1.0, style=ProgressStyle(description_width=…"
      ]
     },
     "metadata": {},
     "output_type": "display_data"
    },
    {
     "name": "stdout",
     "output_type": "stream",
     "text": [
      "\n"
     ]
    },
    {
     "data": {
      "application/vnd.jupyter.widget-view+json": {
       "model_id": "58c7f17115284a64a2c99481819f71be",
       "version_major": 2,
       "version_minor": 0
      },
      "text/plain": [
       "HBox(children=(FloatProgress(value=0.0, description='build report structure', max=1.0, style=ProgressStyle(des…"
      ]
     },
     "metadata": {},
     "output_type": "display_data"
    },
    {
     "name": "stdout",
     "output_type": "stream",
     "text": [
      "\n"
     ]
    }
   ],
   "source": [
    "profile = ProfileReport(data_test, minimal=True)\n",
    "profile.to_file(output_file=\"output.html\")"
   ]
  },
  {
   "cell_type": "code",
   "execution_count": 3,
   "metadata": {},
   "outputs": [
    {
     "name": "stdout",
     "output_type": "stream",
     "text": [
      "Size of crashes : 365\n",
      "Size of success : 4635\n",
      "Percentage of crash cases:7.30 %\n",
      "Percentage of not crashed cases:92.70 %\n"
     ]
    },
    {
     "data": {
      "text/html": [
       "<div>\n",
       "<style scoped>\n",
       "    .dataframe tbody tr th:only-of-type {\n",
       "        vertical-align: middle;\n",
       "    }\n",
       "\n",
       "    .dataframe tbody tr th {\n",
       "        vertical-align: top;\n",
       "    }\n",
       "\n",
       "    .dataframe thead th {\n",
       "        text-align: right;\n",
       "    }\n",
       "</style>\n",
       "<table border=\"1\" class=\"dataframe\">\n",
       "  <thead>\n",
       "    <tr style=\"text-align: right;\">\n",
       "      <th></th>\n",
       "      <th>Episode</th>\n",
       "      <th>Kick_Speed</th>\n",
       "      <th>friction</th>\n",
       "      <th>variance_friction</th>\n",
       "      <th>Rewards</th>\n",
       "      <th>Stop_Distance</th>\n",
       "    </tr>\n",
       "  </thead>\n",
       "  <tbody>\n",
       "    <tr>\n",
       "      <th>5</th>\n",
       "      <td>5</td>\n",
       "      <td>52.61</td>\n",
       "      <td>0.7</td>\n",
       "      <td>0.3</td>\n",
       "      <td>-1025.57</td>\n",
       "      <td>-0.23</td>\n",
       "    </tr>\n",
       "    <tr>\n",
       "      <th>8</th>\n",
       "      <td>8</td>\n",
       "      <td>51.10</td>\n",
       "      <td>0.7</td>\n",
       "      <td>0.3</td>\n",
       "      <td>-1023.61</td>\n",
       "      <td>-0.22</td>\n",
       "    </tr>\n",
       "    <tr>\n",
       "      <th>10</th>\n",
       "      <td>10</td>\n",
       "      <td>51.93</td>\n",
       "      <td>0.7</td>\n",
       "      <td>0.3</td>\n",
       "      <td>-1024.97</td>\n",
       "      <td>-0.05</td>\n",
       "    </tr>\n",
       "    <tr>\n",
       "      <th>11</th>\n",
       "      <td>11</td>\n",
       "      <td>64.93</td>\n",
       "      <td>0.7</td>\n",
       "      <td>0.3</td>\n",
       "      <td>-1047.16</td>\n",
       "      <td>-0.36</td>\n",
       "    </tr>\n",
       "    <tr>\n",
       "      <th>12</th>\n",
       "      <td>12</td>\n",
       "      <td>47.04</td>\n",
       "      <td>0.7</td>\n",
       "      <td>0.3</td>\n",
       "      <td>-279.19</td>\n",
       "      <td>1.23</td>\n",
       "    </tr>\n",
       "  </tbody>\n",
       "</table>\n",
       "</div>"
      ],
      "text/plain": [
       "    Episode  Kick_Speed  friction  variance_friction  Rewards  Stop_Distance\n",
       "5         5       52.61       0.7                0.3 -1025.57          -0.23\n",
       "8         8       51.10       0.7                0.3 -1023.61          -0.22\n",
       "10       10       51.93       0.7                0.3 -1024.97          -0.05\n",
       "11       11       64.93       0.7                0.3 -1047.16          -0.36\n",
       "12       12       47.04       0.7                0.3  -279.19           1.23"
      ]
     },
     "execution_count": 3,
     "metadata": {},
     "output_type": "execute_result"
    }
   ],
   "source": [
    "failed = data_test[data_test['Stop_Distance'] <= 5]\n",
    "passed = data_test[data_test['Stop_Distance'] >5]\n",
    "\n",
    "print('Size of crashes :',failed.shape[0])  \n",
    "print('Size of success :',passed.shape[0]) \n",
    "print(\"Percentage of crash cases:{:.2f}\".format(failed.shape[0]*100/(failed.shape[0]+passed.shape[0])),\"%\")\n",
    "print(\"Percentage of not crashed cases:{:.2f}\".format(passed.shape[0]*100/(failed.shape[0]+passed.shape[0])),\"%\")\n",
    "\n",
    "failed.to_csv(\"crashed.csv\",index=False)\n",
    "failed.head()"
   ]
  },
  {
   "cell_type": "code",
   "execution_count": 4,
   "metadata": {},
   "outputs": [],
   "source": [
    "#passed.to_csv(\"not_crashed.csv\",index=False  )\n",
    "#passed.head()"
   ]
  },
  {
   "cell_type": "code",
   "execution_count": 7,
   "metadata": {},
   "outputs": [
    {
     "data": {
      "image/png": "[encoded data removed]",
      "text/plain": [
       "<Figure size 576x396 with 1 Axes>"
      ]
     },
     "metadata": {},
     "output_type": "display_data"
    }
   ],
   "source": [
    "fig=plt.figure\n",
    "plt.scatter(failed[\"Kick_Speed\"],failed[\"Stop_Distance\"],label='Line 2')\n",
    "plt.grid(color='r', linestyle='-', linewidth=0.5)\n",
    "plt.title(\"Failed cases\")\n",
    "plt.xlabel(\"Intial speed\")\n",
    "plt.ylabel(\"stopping distnace\")\n",
    "plt.show()\n"
   ]
  },
  {
   "cell_type": "code",
   "execution_count": 8,
   "metadata": {},
   "outputs": [
    {
     "data": {
      "image/png": "[encoded data removed]",
      "text/plain": [
       "<Figure size 576x396 with 1 Axes>"
      ]
     },
     "metadata": {},
     "output_type": "display_data"
    }
   ],
   "source": [
    "fig=plt.figure\n",
    "plt.scatter(passed[\"Kick_Speed\"],passed[\"Stop_Distance\"])\n",
    "plt.grid(color='r', linestyle='-', linewidth=0.5)\n",
    "plt.title(\"Success cases\")\n",
    "plt.xlabel(\"Intial speed\")\n",
    "plt.ylabel(\"distnace\")\n",
    "plt.show()\n"
   ]
  },
  {
   "cell_type": "code",
   "execution_count": 9,
   "metadata": {},
   "outputs": [
    {
     "data": {
      "text/html": [
       "<div>\n",
       "<style scoped>\n",
       "    .dataframe tbody tr th:only-of-type {\n",
       "        vertical-align: middle;\n",
       "    }\n",
       "\n",
       "    .dataframe tbody tr th {\n",
       "        vertical-align: top;\n",
       "    }\n",
       "\n",
       "    .dataframe thead th {\n",
       "        text-align: right;\n",
       "    }\n",
       "</style>\n",
       "<table border=\"1\" class=\"dataframe\">\n",
       "  <thead>\n",
       "    <tr style=\"text-align: right;\">\n",
       "      <th></th>\n",
       "      <th>Episode</th>\n",
       "      <th>Kick_Speed</th>\n",
       "      <th>friction</th>\n",
       "      <th>variance_friction</th>\n",
       "      <th>Rewards</th>\n",
       "      <th>Stop_Distance</th>\n",
       "      <th>test</th>\n",
       "    </tr>\n",
       "  </thead>\n",
       "  <tbody>\n",
       "    <tr>\n",
       "      <th>0</th>\n",
       "      <td>0</td>\n",
       "      <td>45.04</td>\n",
       "      <td>0.7</td>\n",
       "      <td>0.3</td>\n",
       "      <td>0.00</td>\n",
       "      <td>7.48</td>\n",
       "      <td>0.0</td>\n",
       "    </tr>\n",
       "    <tr>\n",
       "      <th>1</th>\n",
       "      <td>1</td>\n",
       "      <td>44.27</td>\n",
       "      <td>0.7</td>\n",
       "      <td>0.3</td>\n",
       "      <td>-16.03</td>\n",
       "      <td>16.48</td>\n",
       "      <td>0.0</td>\n",
       "    </tr>\n",
       "    <tr>\n",
       "      <th>2</th>\n",
       "      <td>2</td>\n",
       "      <td>40.04</td>\n",
       "      <td>0.7</td>\n",
       "      <td>0.3</td>\n",
       "      <td>-52.84</td>\n",
       "      <td>28.87</td>\n",
       "      <td>0.0</td>\n",
       "    </tr>\n",
       "    <tr>\n",
       "      <th>3</th>\n",
       "      <td>3</td>\n",
       "      <td>31.59</td>\n",
       "      <td>0.7</td>\n",
       "      <td>0.3</td>\n",
       "      <td>-189.11</td>\n",
       "      <td>58.29</td>\n",
       "      <td>0.0</td>\n",
       "    </tr>\n",
       "    <tr>\n",
       "      <th>4</th>\n",
       "      <td>4</td>\n",
       "      <td>36.21</td>\n",
       "      <td>0.7</td>\n",
       "      <td>0.3</td>\n",
       "      <td>-80.87</td>\n",
       "      <td>42.64</td>\n",
       "      <td>0.0</td>\n",
       "    </tr>\n",
       "  </tbody>\n",
       "</table>\n",
       "</div>"
      ],
      "text/plain": [
       "   Episode  Kick_Speed  friction  variance_friction  Rewards  Stop_Distance  \\\n",
       "0        0       45.04       0.7                0.3     0.00           7.48   \n",
       "1        1       44.27       0.7                0.3   -16.03          16.48   \n",
       "2        2       40.04       0.7                0.3   -52.84          28.87   \n",
       "3        3       31.59       0.7                0.3  -189.11          58.29   \n",
       "4        4       36.21       0.7                0.3   -80.87          42.64   \n",
       "\n",
       "   test  \n",
       "0   0.0  \n",
       "1   0.0  \n",
       "2   0.0  \n",
       "3   0.0  \n",
       "4   0.0  "
      ]
     },
     "execution_count": 9,
     "metadata": {},
     "output_type": "execute_result"
    }
   ],
   "source": [
    "data_test.loc[data_test['Stop_Distance'] <= 0, 'test'] = int(1)\n",
    "data_test.loc[data_test['Stop_Distance'] > 0, 'test'] = int(0)\n",
    "data_test.head()"
   ]
  },
  {
   "cell_type": "code",
   "execution_count": 13,
   "metadata": {},
   "outputs": [
    {
     "name": "stdout",
     "output_type": "stream",
     "text": [
      "Total number of episodes: 5000\n",
      "Number of Pass: 1369\n",
      "Number of fail: 31\n"
     ]
    },
    {
     "data": {
      "image/png": "[encoded data removed]",
      "text/plain": [
       "<Figure size 576x396 with 1 Axes>"
      ]
     },
     "metadata": {},
     "output_type": "display_data"
    }
   ],
   "source": [
    "print('Total number of episodes:',data_test['Episode'].shape[0])\n",
    "start=600\n",
    "end=2000\n",
    "\n",
    "fig, ax = plt.subplots()\n",
    "episode=np.array(data_test['Episode'].values.tolist()[start:end])\n",
    "test=np.array(data_test['test'].values.tolist()[start:end])\n",
    "speed=np.array(data_test['Kick_Speed'].values.tolist()[start:end])\n",
    "\n",
    "indices = test == 0\n",
    "print('Number of Pass:',indices.sum())\n",
    "print('Number of fail:',indices.shape[0]-indices.sum())\n",
    "\n",
    "# normal values\n",
    "ax.scatter(episode[~indices], speed[~indices], c = 'red',label='fail')\n",
    "# bad values\n",
    "ax.scatter(episode[indices], speed[indices], c = 'grey',label='Pass')\n",
    "#ax.legend()\n",
    "ax.set_ylim([0,75])\n",
    "plt.xlabel('episode')\n",
    "plt.ylabel('speed (miles/hr)')\n",
    "ax.grid(True) \n",
    "plt.show()"
   ]
  },
  {
   "cell_type": "code",
   "execution_count": 14,
   "metadata": {},
   "outputs": [],
   "source": [
    "crashed_final=pd.read_csv('crashed.csv') \n",
    "crashed_final=crashed_final.loc[crashed_final['Episode'] <= 50]\n",
    "crashed_final=crashed_final['Kick_Speed'].values\n",
    "\n",
    "\n"
   ]
  },
  {
   "cell_type": "code",
   "execution_count": 15,
   "metadata": {},
   "outputs": [
    {
     "name": "stdout",
     "output_type": "stream",
     "text": [
      "69.94\n",
      "57.01\n",
      "47.57\n",
      "15\n"
     ]
    }
   ],
   "source": [
    "for i in range(3) :\n",
    " print(crashed_final[-1-i])\n",
    "print(crashed_final.shape[0])"
   ]
  },
  {
   "cell_type": "code",
   "execution_count": 16,
   "metadata": {},
   "outputs": [
    {
     "name": "stdout",
     "output_type": "stream",
     "text": [
      "Failures:  [23, 25, 17, 24, 25, 31, 10, 4, 4, 0, 2, 0, 0, 1, 1, 2, 2, 3, 1, 1]\n"
     ]
    },
    {
     "data": {
      "image/png": "[encoded data removed]",
      "text/plain": [
       "<Figure size 576x396 with 1 Axes>"
      ]
     },
     "metadata": {},
     "output_type": "display_data"
    }
   ],
   "source": [
    "step=100\n",
    "range_f=end/step\n",
    "failure=[]\n",
    "fig, ax = plt.subplots()\n",
    "for i in range(int(range_f)):\n",
    "    start=step*i\n",
    "    episode=np.array(data_test['Episode'].values.tolist()[start:start+step])\n",
    "    test=np.array(data_test['test'].values.tolist()[start:start+step])\n",
    "    indices = test == 1\n",
    "    failure.append(indices.sum())\n",
    "print('Failures: ',failure)\n",
    "ax.plot(failure,marker='o', linestyle='dashed',linewidth=2, markersize=12)\n",
    "plt.xlabel('(index+1)*1000 episodes')\n",
    "plt.ylabel('Failures/1000 episodes')\n",
    "ax.grid(True) \n",
    "plt.show()   "
   ]
  },
  {
   "cell_type": "code",
   "execution_count": 10,
   "metadata": {},
   "outputs": [
    {
     "name": "stdout",
     "output_type": "stream",
     "text": [
      "std is: [404.14508533  10.99963159]\n",
      "Mean is: [1299.5          38.00997857]\n"
     ]
    },
    {
     "data": {
      "text/html": [
       "<div>\n",
       "<style scoped>\n",
       "    .dataframe tbody tr th:only-of-type {\n",
       "        vertical-align: middle;\n",
       "    }\n",
       "\n",
       "    .dataframe tbody tr th {\n",
       "        vertical-align: top;\n",
       "    }\n",
       "\n",
       "    .dataframe thead th {\n",
       "        text-align: right;\n",
       "    }\n",
       "</style>\n",
       "<table border=\"1\" class=\"dataframe\">\n",
       "  <thead>\n",
       "    <tr style=\"text-align: right;\">\n",
       "      <th></th>\n",
       "      <th>Episode</th>\n",
       "      <th>Kick_Speed</th>\n",
       "      <th>test</th>\n",
       "    </tr>\n",
       "  </thead>\n",
       "  <tbody>\n",
       "    <tr>\n",
       "      <th>600</th>\n",
       "      <td>-1.730814</td>\n",
       "      <td>0.537293</td>\n",
       "      <td>0.0</td>\n",
       "    </tr>\n",
       "    <tr>\n",
       "      <th>601</th>\n",
       "      <td>-1.728340</td>\n",
       "      <td>0.632750</td>\n",
       "      <td>0.0</td>\n",
       "    </tr>\n",
       "    <tr>\n",
       "      <th>602</th>\n",
       "      <td>-1.725865</td>\n",
       "      <td>0.117279</td>\n",
       "      <td>0.0</td>\n",
       "    </tr>\n",
       "    <tr>\n",
       "      <th>603</th>\n",
       "      <td>-1.723391</td>\n",
       "      <td>1.265499</td>\n",
       "      <td>1.0</td>\n",
       "    </tr>\n",
       "    <tr>\n",
       "      <th>604</th>\n",
       "      <td>-1.720917</td>\n",
       "      <td>-0.332736</td>\n",
       "      <td>0.0</td>\n",
       "    </tr>\n",
       "  </tbody>\n",
       "</table>\n",
       "</div>"
      ],
      "text/plain": [
       "      Episode  Kick_Speed  test\n",
       "600 -1.730814    0.537293   0.0\n",
       "601 -1.728340    0.632750   0.0\n",
       "602 -1.725865    0.117279   0.0\n",
       "603 -1.723391    1.265499   1.0\n",
       "604 -1.720917   -0.332736   0.0"
      ]
     },
     "execution_count": 10,
     "metadata": {},
     "output_type": "execute_result"
    }
   ],
   "source": [
    "#data for AVF training:\n",
    "iteration_start=600\n",
    "iteration_end=2000\n",
    "data=data_test[[\"Episode\", \"Kick_Speed\",\"test\"]][iteration_start:iteration_end]\n",
    "std=np.std(data[[\"Episode\", \"Kick_Speed\"]].values,axis=0)\n",
    "mean=np.mean(data[[\"Episode\", \"Kick_Speed\"]].values,axis=0)\n",
    "np.savez('stdmean.npz',std=std, mean=mean)\n",
    "data[[\"Episode\", \"Kick_Speed\"]]=np.divide(np.subtract(data[[\"Episode\", \"Kick_Speed\"]],mean),std)\n",
    "print('std is:',std)\n",
    "print('Mean is:',mean)\n",
    "data.head()"
   ]
  },
  {
   "cell_type": "code",
   "execution_count": 13,
   "metadata": {},
   "outputs": [
    {
     "name": "stdout",
     "output_type": "stream",
     "text": [
      "(1400, 2)\n",
      "(1400,)\n",
      "(2,)\n",
      "Epoch 1/500\n",
      "118/118 [==============================] - 0s 2ms/step - loss: 0.2404 - accuracy: 0.9776\n",
      "Epoch 2/500\n",
      "118/118 [==============================] - 0s 2ms/step - loss: 0.1071 - accuracy: 0.9776\n",
      "Epoch 3/500\n",
      "118/118 [==============================] - 0s 2ms/step - loss: 0.0758 - accuracy: 0.9776\n",
      "Epoch 4/500\n",
      "118/118 [==============================] - 0s 2ms/step - loss: 0.0598 - accuracy: 0.9776\n",
      "Epoch 5/500\n",
      "118/118 [==============================] - 0s 2ms/step - loss: 0.0484 - accuracy: 0.9808\n",
      "Epoch 6/500\n",
      "118/118 [==============================] - 0s 2ms/step - loss: 0.0420 - accuracy: 0.9829\n",
      "Epoch 7/500\n",
      "118/118 [==============================] - 0s 2ms/step - loss: 0.0385 - accuracy: 0.9851\n",
      "Epoch 8/500\n",
      "118/118 [==============================] - 0s 2ms/step - loss: 0.0336 - accuracy: 0.9883\n",
      "Epoch 9/500\n",
      "118/118 [==============================] - 0s 2ms/step - loss: 0.0304 - accuracy: 0.9915\n",
      "Epoch 10/500\n",
      "118/118 [==============================] - 0s 2ms/step - loss: 0.0298 - accuracy: 0.9883\n",
      "Epoch 11/500\n",
      "118/118 [==============================] - 0s 2ms/step - loss: 0.0258 - accuracy: 0.9893\n",
      "Epoch 12/500\n",
      "118/118 [==============================] - 0s 2ms/step - loss: 0.0225 - accuracy: 0.9915\n",
      "Epoch 13/500\n",
      "118/118 [==============================] - 0s 1ms/step - loss: 0.0223 - accuracy: 0.9915\n",
      "Epoch 14/500\n",
      "118/118 [==============================] - 0s 2ms/step - loss: 0.0222 - accuracy: 0.9936\n",
      "Epoch 15/500\n",
      "118/118 [==============================] - 0s 1ms/step - loss: 0.0205 - accuracy: 0.9925\n",
      "Epoch 16/500\n",
      "118/118 [==============================] - 0s 2ms/step - loss: 0.0195 - accuracy: 0.9904\n",
      "Epoch 17/500\n",
      "118/118 [==============================] - 0s 2ms/step - loss: 0.0225 - accuracy: 0.9872\n",
      "Epoch 18/500\n",
      "118/118 [==============================] - 0s 2ms/step - loss: 0.0211 - accuracy: 0.9925\n",
      "Epoch 19/500\n",
      "118/118 [==============================] - 0s 2ms/step - loss: 0.0176 - accuracy: 0.9936\n",
      "Epoch 20/500\n",
      "118/118 [==============================] - 0s 2ms/step - loss: 0.0179 - accuracy: 0.9936\n",
      "Epoch 21/500\n",
      "118/118 [==============================] - 0s 2ms/step - loss: 0.0173 - accuracy: 0.9957\n",
      "Epoch 22/500\n",
      "118/118 [==============================] - 0s 2ms/step - loss: 0.0187 - accuracy: 0.9925\n",
      "Epoch 23/500\n",
      "118/118 [==============================] - 0s 2ms/step - loss: 0.0179 - accuracy: 0.9947\n",
      "Epoch 24/500\n",
      "118/118 [==============================] - 0s 2ms/step - loss: 0.0166 - accuracy: 0.9957\n",
      "Epoch 25/500\n",
      "118/118 [==============================] - 0s 1ms/step - loss: 0.0158 - accuracy: 0.9925\n",
      "Epoch 26/500\n",
      "118/118 [==============================] - 0s 2ms/step - loss: 0.0172 - accuracy: 0.9957\n",
      "Epoch 27/500\n",
      "118/118 [==============================] - 0s 2ms/step - loss: 0.0156 - accuracy: 0.9936\n",
      "Epoch 28/500\n",
      "118/118 [==============================] - 0s 2ms/step - loss: 0.0147 - accuracy: 0.9968\n",
      "Epoch 29/500\n",
      "118/118 [==============================] - 0s 2ms/step - loss: 0.0154 - accuracy: 0.9947\n",
      "Epoch 30/500\n",
      "118/118 [==============================] - 0s 1ms/step - loss: 0.0172 - accuracy: 0.9925\n",
      "Epoch 31/500\n",
      "118/118 [==============================] - 0s 2ms/step - loss: 0.0150 - accuracy: 0.9936\n",
      "Epoch 32/500\n",
      "118/118 [==============================] - 0s 2ms/step - loss: 0.0151 - accuracy: 0.9936\n",
      "Epoch 33/500\n",
      "118/118 [==============================] - 0s 2ms/step - loss: 0.0160 - accuracy: 0.9925\n",
      "Epoch 34/500\n",
      "118/118 [==============================] - 0s 2ms/step - loss: 0.0142 - accuracy: 0.9936\n",
      "Epoch 35/500\n",
      "118/118 [==============================] - 0s 2ms/step - loss: 0.0155 - accuracy: 0.9925\n",
      "Epoch 36/500\n",
      "118/118 [==============================] - 0s 2ms/step - loss: 0.0149 - accuracy: 0.9925\n",
      "Epoch 37/500\n",
      "118/118 [==============================] - 0s 2ms/step - loss: 0.0159 - accuracy: 0.9904\n",
      "Epoch 38/500\n",
      "118/118 [==============================] - 0s 2ms/step - loss: 0.0157 - accuracy: 0.9925\n",
      "Epoch 39/500\n",
      "118/118 [==============================] - 0s 1ms/step - loss: 0.0163 - accuracy: 0.9915\n",
      "Epoch 40/500\n",
      "118/118 [==============================] - 0s 2ms/step - loss: 0.0174 - accuracy: 0.9893\n",
      "Epoch 41/500\n",
      "118/118 [==============================] - 0s 2ms/step - loss: 0.0127 - accuracy: 0.9947\n",
      "Epoch 42/500\n",
      "118/118 [==============================] - 0s 2ms/step - loss: 0.0185 - accuracy: 0.9925\n",
      "Epoch 43/500\n",
      "118/118 [==============================] - 0s 1ms/step - loss: 0.0153 - accuracy: 0.9915\n",
      "Epoch 44/500\n",
      "118/118 [==============================] - 0s 2ms/step - loss: 0.0178 - accuracy: 0.9925\n",
      "Epoch 45/500\n",
      "118/118 [==============================] - 0s 2ms/step - loss: 0.0181 - accuracy: 0.9915\n",
      "Epoch 46/500\n",
      "118/118 [==============================] - 0s 2ms/step - loss: 0.0146 - accuracy: 0.9968\n",
      "Epoch 47/500\n",
      "118/118 [==============================] - 0s 2ms/step - loss: 0.0139 - accuracy: 0.9936\n",
      "Epoch 48/500\n",
      "118/118 [==============================] - 0s 1ms/step - loss: 0.0138 - accuracy: 0.9957\n",
      "Epoch 49/500\n",
      "118/118 [==============================] - 0s 2ms/step - loss: 0.0153 - accuracy: 0.9915\n",
      "Epoch 50/500\n",
      "118/118 [==============================] - 0s 2ms/step - loss: 0.0160 - accuracy: 0.9947\n",
      "Epoch 51/500\n",
      "118/118 [==============================] - 0s 2ms/step - loss: 0.0116 - accuracy: 0.9968\n",
      "Epoch 52/500\n",
      "118/118 [==============================] - 0s 1ms/step - loss: 0.0143 - accuracy: 0.9936\n",
      "Epoch 53/500\n",
      "118/118 [==============================] - 0s 2ms/step - loss: 0.0149 - accuracy: 0.9936\n",
      "Epoch 54/500\n",
      "118/118 [==============================] - 0s 2ms/step - loss: 0.0141 - accuracy: 0.9936\n",
      "Epoch 55/500\n",
      "118/118 [==============================] - 0s 2ms/step - loss: 0.0146 - accuracy: 0.9957\n",
      "Epoch 56/500\n",
      "118/118 [==============================] - 0s 2ms/step - loss: 0.0107 - accuracy: 0.9957\n",
      "Epoch 57/500\n",
      "118/118 [==============================] - 0s 2ms/step - loss: 0.0142 - accuracy: 0.9936\n",
      "Epoch 58/500\n",
      "118/118 [==============================] - 0s 2ms/step - loss: 0.0134 - accuracy: 0.9936\n",
      "Epoch 59/500\n",
      "118/118 [==============================] - 0s 2ms/step - loss: 0.0123 - accuracy: 0.9968\n",
      "Epoch 60/500\n",
      "118/118 [==============================] - 0s 2ms/step - loss: 0.0143 - accuracy: 0.9947\n",
      "Epoch 61/500\n",
      "118/118 [==============================] - 0s 2ms/step - loss: 0.0137 - accuracy: 0.9947\n",
      "Epoch 62/500\n",
      "118/118 [==============================] - 0s 1ms/step - loss: 0.0124 - accuracy: 0.9947\n",
      "Epoch 63/500\n",
      "118/118 [==============================] - 0s 1ms/step - loss: 0.0160 - accuracy: 0.9915\n",
      "Epoch 64/500\n",
      "118/118 [==============================] - 0s 2ms/step - loss: 0.0140 - accuracy: 0.9947\n",
      "Epoch 65/500\n",
      "118/118 [==============================] - 0s 1ms/step - loss: 0.0128 - accuracy: 0.9947\n",
      "Epoch 66/500\n",
      "118/118 [==============================] - 0s 2ms/step - loss: 0.0137 - accuracy: 0.9968\n",
      "Epoch 67/500\n",
      "118/118 [==============================] - 0s 2ms/step - loss: 0.0123 - accuracy: 0.9947\n",
      "Epoch 68/500\n",
      "118/118 [==============================] - 0s 2ms/step - loss: 0.0121 - accuracy: 0.9968\n",
      "Epoch 69/500\n",
      "118/118 [==============================] - 0s 2ms/step - loss: 0.0138 - accuracy: 0.9936\n",
      "Epoch 70/500\n",
      "118/118 [==============================] - 0s 1ms/step - loss: 0.0127 - accuracy: 0.9936\n",
      "Epoch 71/500\n",
      "118/118 [==============================] - 0s 2ms/step - loss: 0.0139 - accuracy: 0.9957\n",
      "Epoch 72/500\n",
      "118/118 [==============================] - 0s 1ms/step - loss: 0.0159 - accuracy: 0.9925\n",
      "Epoch 73/500\n",
      "118/118 [==============================] - 0s 2ms/step - loss: 0.0134 - accuracy: 0.9947\n",
      "Epoch 74/500\n",
      "118/118 [==============================] - 0s 1ms/step - loss: 0.0178 - accuracy: 0.9915\n",
      "Epoch 75/500\n",
      "118/118 [==============================] - 0s 2ms/step - loss: 0.0126 - accuracy: 0.9936\n",
      "Epoch 76/500\n",
      "118/118 [==============================] - 0s 2ms/step - loss: 0.0124 - accuracy: 0.9968\n",
      "Epoch 77/500\n",
      "118/118 [==============================] - 0s 2ms/step - loss: 0.0136 - accuracy: 0.9925\n",
      "Epoch 78/500\n",
      "118/118 [==============================] - 0s 2ms/step - loss: 0.0123 - accuracy: 0.9947\n",
      "Epoch 79/500\n",
      "118/118 [==============================] - 0s 2ms/step - loss: 0.0124 - accuracy: 0.9947\n",
      "Epoch 80/500\n",
      "118/118 [==============================] - 0s 2ms/step - loss: 0.0181 - accuracy: 0.9915\n",
      "Epoch 81/500\n",
      "118/118 [==============================] - 0s 2ms/step - loss: 0.0122 - accuracy: 0.9947\n",
      "Epoch 82/500\n",
      "118/118 [==============================] - 0s 2ms/step - loss: 0.0116 - accuracy: 0.9936\n",
      "Epoch 83/500\n",
      "118/118 [==============================] - 0s 2ms/step - loss: 0.0124 - accuracy: 0.9925\n",
      "Epoch 84/500\n",
      "118/118 [==============================] - 0s 2ms/step - loss: 0.0109 - accuracy: 0.9968\n",
      "Epoch 85/500\n",
      "118/118 [==============================] - 0s 2ms/step - loss: 0.0148 - accuracy: 0.9925\n",
      "Epoch 86/500\n",
      "118/118 [==============================] - 0s 2ms/step - loss: 0.0166 - accuracy: 0.9947\n",
      "Epoch 87/500\n",
      "118/118 [==============================] - 0s 2ms/step - loss: 0.0132 - accuracy: 0.9947\n",
      "Epoch 88/500\n",
      "118/118 [==============================] - 0s 2ms/step - loss: 0.0115 - accuracy: 0.9936\n",
      "Epoch 89/500\n",
      "118/118 [==============================] - 0s 2ms/step - loss: 0.0157 - accuracy: 0.9904\n",
      "Epoch 90/500\n",
      "118/118 [==============================] - 0s 2ms/step - loss: 0.0116 - accuracy: 0.9936\n",
      "Epoch 91/500\n",
      "118/118 [==============================] - 0s 2ms/step - loss: 0.0133 - accuracy: 0.9936\n",
      "Epoch 92/500\n",
      "118/118 [==============================] - 0s 2ms/step - loss: 0.0119 - accuracy: 0.9957\n",
      "Epoch 93/500\n",
      "118/118 [==============================] - 0s 2ms/step - loss: 0.0133 - accuracy: 0.9957\n",
      "Epoch 94/500\n",
      "118/118 [==============================] - 0s 2ms/step - loss: 0.0132 - accuracy: 0.9904\n",
      "Epoch 95/500\n",
      "118/118 [==============================] - 0s 2ms/step - loss: 0.0172 - accuracy: 0.9947\n",
      "Epoch 96/500\n",
      "118/118 [==============================] - 0s 2ms/step - loss: 0.0115 - accuracy: 0.9936\n",
      "Epoch 97/500\n",
      "118/118 [==============================] - 0s 2ms/step - loss: 0.0119 - accuracy: 0.9925\n",
      "Epoch 98/500\n",
      "118/118 [==============================] - 0s 2ms/step - loss: 0.0117 - accuracy: 0.9925\n",
      "Epoch 99/500\n",
      "118/118 [==============================] - 0s 2ms/step - loss: 0.0112 - accuracy: 0.9947\n",
      "Epoch 100/500\n",
      "118/118 [==============================] - 0s 2ms/step - loss: 0.0124 - accuracy: 0.9947\n",
      "Epoch 101/500\n",
      "118/118 [==============================] - 0s 2ms/step - loss: 0.0144 - accuracy: 0.9925\n",
      "Epoch 102/500\n",
      "118/118 [==============================] - 0s 2ms/step - loss: 0.0125 - accuracy: 0.9947\n",
      "Epoch 103/500\n",
      "118/118 [==============================] - 0s 2ms/step - loss: 0.0131 - accuracy: 0.9936\n",
      "Epoch 104/500\n",
      "118/118 [==============================] - 0s 2ms/step - loss: 0.0102 - accuracy: 0.9947\n",
      "Epoch 105/500\n",
      "118/118 [==============================] - 0s 2ms/step - loss: 0.0115 - accuracy: 0.9947\n",
      "Epoch 106/500\n",
      "118/118 [==============================] - 0s 2ms/step - loss: 0.0105 - accuracy: 0.9936\n",
      "Epoch 107/500\n",
      "118/118 [==============================] - 0s 2ms/step - loss: 0.0111 - accuracy: 0.9968\n",
      "Epoch 108/500\n",
      "118/118 [==============================] - 0s 2ms/step - loss: 0.0118 - accuracy: 0.9947\n",
      "Epoch 109/500\n",
      "118/118 [==============================] - 0s 1ms/step - loss: 0.0111 - accuracy: 0.9947\n",
      "Epoch 110/500\n",
      "118/118 [==============================] - 0s 2ms/step - loss: 0.0121 - accuracy: 0.9947\n",
      "Epoch 111/500\n",
      "118/118 [==============================] - 0s 2ms/step - loss: 0.0126 - accuracy: 0.9915\n",
      "Epoch 112/500\n",
      "118/118 [==============================] - 0s 2ms/step - loss: 0.0162 - accuracy: 0.9925\n",
      "Epoch 113/500\n",
      "118/118 [==============================] - 0s 2ms/step - loss: 0.0136 - accuracy: 0.9925\n",
      "Epoch 114/500\n",
      "118/118 [==============================] - 0s 2ms/step - loss: 0.0119 - accuracy: 0.9957\n",
      "Epoch 115/500\n",
      "118/118 [==============================] - 0s 2ms/step - loss: 0.0130 - accuracy: 0.9947\n",
      "Epoch 116/500\n",
      "118/118 [==============================] - 0s 2ms/step - loss: 0.0117 - accuracy: 0.9947\n",
      "Epoch 117/500\n",
      "118/118 [==============================] - 0s 2ms/step - loss: 0.0116 - accuracy: 0.9947\n",
      "Epoch 118/500\n",
      "118/118 [==============================] - 0s 1ms/step - loss: 0.0132 - accuracy: 0.9925\n",
      "Epoch 119/500\n",
      "118/118 [==============================] - 0s 2ms/step - loss: 0.0149 - accuracy: 0.9925\n",
      "Epoch 120/500\n",
      "118/118 [==============================] - 0s 2ms/step - loss: 0.0170 - accuracy: 0.9936\n",
      "Epoch 121/500\n",
      "118/118 [==============================] - 0s 2ms/step - loss: 0.0094 - accuracy: 0.9947\n",
      "Epoch 122/500\n",
      "118/118 [==============================] - 0s 2ms/step - loss: 0.0119 - accuracy: 0.9925\n",
      "Epoch 123/500\n",
      "118/118 [==============================] - 0s 2ms/step - loss: 0.0125 - accuracy: 0.9968\n",
      "Epoch 124/500\n",
      "118/118 [==============================] - 0s 2ms/step - loss: 0.0117 - accuracy: 0.9947\n",
      "Epoch 125/500\n",
      "118/118 [==============================] - 0s 1ms/step - loss: 0.0130 - accuracy: 0.9936\n",
      "Epoch 126/500\n",
      "118/118 [==============================] - 0s 2ms/step - loss: 0.0134 - accuracy: 0.9936\n",
      "Epoch 127/500\n",
      "118/118 [==============================] - 0s 1ms/step - loss: 0.0109 - accuracy: 0.9936\n",
      "Epoch 128/500\n",
      "118/118 [==============================] - 0s 2ms/step - loss: 0.0131 - accuracy: 0.9925\n",
      "Epoch 129/500\n",
      "118/118 [==============================] - 0s 2ms/step - loss: 0.0133 - accuracy: 0.9925\n",
      "Epoch 130/500\n",
      "118/118 [==============================] - 0s 2ms/step - loss: 0.0106 - accuracy: 0.9947\n",
      "Epoch 131/500\n",
      "118/118 [==============================] - 0s 2ms/step - loss: 0.0099 - accuracy: 0.9947\n",
      "Epoch 132/500\n",
      "118/118 [==============================] - 0s 2ms/step - loss: 0.0116 - accuracy: 0.9957\n",
      "Epoch 133/500\n",
      "118/118 [==============================] - 0s 2ms/step - loss: 0.0102 - accuracy: 0.9968\n",
      "Epoch 134/500\n",
      "118/118 [==============================] - 0s 2ms/step - loss: 0.0141 - accuracy: 0.9925\n",
      "Epoch 135/500\n",
      "118/118 [==============================] - 0s 2ms/step - loss: 0.0134 - accuracy: 0.9936\n",
      "Epoch 136/500\n",
      "118/118 [==============================] - 0s 2ms/step - loss: 0.0123 - accuracy: 0.9936\n",
      "Epoch 137/500\n",
      "118/118 [==============================] - 0s 2ms/step - loss: 0.0129 - accuracy: 0.9936\n",
      "Epoch 138/500\n",
      "118/118 [==============================] - 0s 2ms/step - loss: 0.0149 - accuracy: 0.9915\n",
      "Epoch 139/500\n",
      "118/118 [==============================] - 0s 2ms/step - loss: 0.0117 - accuracy: 0.9957\n",
      "Epoch 140/500\n",
      "118/118 [==============================] - 0s 2ms/step - loss: 0.0112 - accuracy: 0.9936\n",
      "Epoch 141/500\n",
      "118/118 [==============================] - 0s 2ms/step - loss: 0.0119 - accuracy: 0.9957\n",
      "Epoch 142/500\n",
      "118/118 [==============================] - 0s 2ms/step - loss: 0.0098 - accuracy: 0.9957\n",
      "Epoch 143/500\n",
      "118/118 [==============================] - 0s 2ms/step - loss: 0.0119 - accuracy: 0.9957\n",
      "Epoch 144/500\n",
      "118/118 [==============================] - 0s 2ms/step - loss: 0.0115 - accuracy: 0.9947\n",
      "Epoch 145/500\n",
      " 98/118 [=======================>......] - ETA: 0s - loss: 0.0116 - accuracy: 0.9974\n",
      "Reached 99% accuracy so cancelling training!\n",
      "118/118 [==============================] - 0s 2ms/step - loss: 0.0108 - accuracy: 0.9979\n"
     ]
    }
   ],
   "source": [
    "#AVF Training \n",
    "\n",
    "\n",
    "X=data[[\"Episode\",\"Kick_Speed\"]].values\n",
    "print(X.shape)\n",
    "Y=data[\"test\"]\n",
    "print(Y.shape)\n",
    "import tensorflow as tf\n",
    "from tensorflow import keras\n",
    "from sklearn.model_selection import train_test_split\n",
    "\n",
    "#test train split\n",
    "x_train, x_test, y_train, y_test = train_test_split(X, Y, test_size=0.33, random_state=42)\n",
    "print(X[1,:].shape)\n",
    "\n",
    "#callback\n",
    "class myCallback(tf.keras.callbacks.Callback):\n",
    "  def on_epoch_end(self, epoch, logs={}):\n",
    "    if(logs.get('accuracy')>0.997):\n",
    "      print(\"\\nReached 99% accuracy so cancelling training!\")\n",
    "      self.model.stop_training = True\n",
    "\n",
    "callbacks = myCallback()\n",
    "\n",
    "# Model\n",
    "\n",
    "model = tf.keras.models.Sequential([tf.keras.layers.InputLayer(input_shape=(2,)), \n",
    "                                    tf.keras.layers.Dense(64, activation=tf.nn.relu),\n",
    "                                    tf.keras.layers.Dense(32, activation=tf.nn.relu),\n",
    "                                    tf.keras.layers.Dense(1, activation=tf.nn.sigmoid )\n",
    "])\n",
    "model.compile(optimizer='adam',\n",
    "              loss=tf.keras.losses.BinaryCrossentropy(),\n",
    "              metrics=['accuracy'])\n",
    "\n",
    "model.fit(x_train, y_train, epochs=500, batch_size=8, callbacks=[callbacks]) ;\n"
   ]
  },
  {
   "cell_type": "code",
   "execution_count": 14,
   "metadata": {},
   "outputs": [
    {
     "name": "stdout",
     "output_type": "stream",
     "text": [
      "29/29 [==============================] - 0s 1ms/step - loss: 0.0045 - accuracy: 1.0000\n",
      "test loss, test acc: [0.004547253251075745, 1.0]\n"
     ]
    }
   ],
   "source": [
    "results = model.evaluate(x_test, y_test, batch_size=16)\n",
    "print('test loss, test acc:', results)"
   ]
  },
  {
   "cell_type": "code",
   "execution_count": 15,
   "metadata": {},
   "outputs": [
    {
     "name": "stdout",
     "output_type": "stream",
     "text": [
      "WARNING:tensorflow:From /home/hv/.local/lib/python3.6/site-packages/tensorflow/python/ops/resource_variable_ops.py:1817: calling BaseResourceVariable.__init__ (from tensorflow.python.ops.resource_variable_ops) with constraint is deprecated and will be removed in a future version.\n",
      "Instructions for updating:\n",
      "If using Keras pass *_constraint arguments to layers.\n",
      "INFO:tensorflow:Assets written to: saved_model/my_model/assets\n"
     ]
    }
   ],
   "source": [
    "!mkdir -p saved_model\n",
    "model.save('saved_model/my_model') "
   ]
  },
  {
   "cell_type": "code",
   "execution_count": 16,
   "metadata": {},
   "outputs": [
    {
     "name": "stdout",
     "output_type": "stream",
     "text": [
      "my_model\n",
      "assets\tsaved_model.pb\tvariables\n"
     ]
    }
   ],
   "source": [
    "# my_model directory\n",
    "!ls saved_model\n",
    "\n",
    "# Contains an assets folder, saved_model.pb, and variables folder.\n",
    "!ls saved_model/my_model"
   ]
  },
  {
   "cell_type": "code",
   "execution_count": 17,
   "metadata": {},
   "outputs": [],
   "source": [
    "new_model = tf.keras.models.load_model('saved_model/my_model')"
   ]
  },
  {
   "cell_type": "code",
   "execution_count": 18,
   "metadata": {},
   "outputs": [
    {
     "name": "stdout",
     "output_type": "stream",
     "text": [
      "(5000, 2)\n",
      "Data : [[2000.           47.24378337]\n",
      " [2000.           49.23064169]\n",
      " [2000.           41.54551137]\n",
      " ...\n",
      " [2000.           20.9484816 ]\n",
      " [2000.           32.21236383]\n",
      " [2000.           49.57694064]]\n"
     ]
    },
    {
     "data": {
      "text/plain": [
       "[<matplotlib.lines.Line2D at 0x7fe896deaeb8>]"
      ]
     },
     "execution_count": 18,
     "metadata": {},
     "output_type": "execute_result"
    },
    {
     "data": {
      "image/png": "[encoded data removed]",
      "text/plain": [
       "<Figure size 576x396 with 1 Axes>"
      ]
     },
     "metadata": {},
     "output_type": "display_data"
    }
   ],
   "source": [
    "samples_per_iteration=5000\n",
    "random_seed=np.random.randint(1,10000)\n",
    "np.random.seed(random_seed)\n",
    "candidate_initial_speed=[]\n",
    "for i in range(samples_per_iteration): \n",
    "    #candidate_initial_speed =(9* np.random.randn(samples_per_iteration, 1) + 38).reshape(-1,1)\n",
    "    candidate_initial_speed.append(np.random.normal(38,11))\n",
    "\n",
    "candidate_initial_speed=np.array(candidate_initial_speed).reshape(-1,1)\n",
    "Episode=2000*np.ones((samples_per_iteration,1)).reshape(-1,1)\n",
    "\n",
    "data=np.concatenate((Episode,candidate_initial_speed),axis=1)\n",
    "print(data.shape)\n",
    "print('Data :',data)\n",
    "\n",
    "container = np.load('stdmean.npz')\n",
    "data_normalised=np.divide(np.subtract(data,container['mean']),container['std'])\n",
    "plt.plot(candidate_initial_speed)"
   ]
  },
  {
   "cell_type": "code",
   "execution_count": 19,
   "metadata": {},
   "outputs": [
    {
     "name": "stdout",
     "output_type": "stream",
     "text": [
      "0.99951375\n",
      "(5000, 1)\n",
      "[3403]\n",
      "[[2.00000000e+03 7.74727185e+01 9.99513745e-01]]\n"
     ]
    }
   ],
   "source": [
    "predicted_y=new_model.predict(data_normalised,batch_size=8)\n",
    "max_value=np.amax(predicted_y)\n",
    "print(max_value)\n",
    "print(predicted_y.shape)\n",
    "array_position=np.where(predicted_y==max_value)[0]\n",
    "print(array_position)\n",
    "#print(predicted_y)\n",
    "#print(np.sort(predicted_y, axis=None) )\n",
    "data_final=np.concatenate((data[array_position,:],predicted_y[array_position,:]),axis=1)\n",
    "print(data_final)"
   ]
  },
  {
   "cell_type": "code",
   "execution_count": 74,
   "metadata": {},
   "outputs": [
    {
     "data": {
      "text/plain": [
       "74.1494809483109"
      ]
     },
     "execution_count": 74,
     "metadata": {},
     "output_type": "execute_result"
    }
   ],
   "source": [
    "data_final[0][1]"
   ]
  },
  {
   "cell_type": "code",
   "execution_count": null,
   "metadata": {},
   "outputs": [],
   "source": []
  }
 ],
 "metadata": {
  "kernelspec": {
   "display_name": "Python 3",
   "language": "python",
   "name": "python3"
  },
  "language_info": {
   "codemirror_mode": {
    "name": "ipython",
    "version": 3
   },
   "file_extension": ".py",
   "mimetype": "text/x-python",
   "name": "python",
   "nbconvert_exporter": "python",
   "pygments_lexer": "ipython3",
   "version": "3.6.9"
  }
 },
 "nbformat": 4,
 "nbformat_minor": 4
}
